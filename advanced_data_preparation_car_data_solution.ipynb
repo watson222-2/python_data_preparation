{
 "cells": [
  {
   "cell_type": "markdown",
   "id": "3272230e",
   "metadata": {},
   "source": [
    "# Advanced Data Preparation with Python (Car Data)"
   ]
  },
  {
   "cell_type": "markdown",
   "id": "c0e6a164",
   "metadata": {},
   "source": [
    "## Libraries and settings"
   ]
  },
  {
   "cell_type": "code",
   "execution_count": 1,
   "id": "08b11b70",
   "metadata": {},
   "outputs": [
    {
     "name": "stdout",
     "output_type": "stream",
     "text": [
      "/workspaces/python_data_preparation\n"
     ]
    }
   ],
   "source": [
    "# Libraries\n",
    "import os\n",
    "import re\n",
    "import time\n",
    "import fnmatch\n",
    "import numpy as np\n",
    "import pandas as pd\n",
    "import seaborn as sns\n",
    "from datetime import datetime\n",
    "import matplotlib.pyplot as plt\n",
    "\n",
    "# Ignore warnings\n",
    "import warnings\n",
    "warnings.filterwarnings(\"ignore\")\n",
    "\n",
    "# Get current working directory\n",
    "print(os.getcwd())"
   ]
  },
  {
   "cell_type": "markdown",
   "id": "2a7bff4a",
   "metadata": {},
   "source": [
    "## Importing data"
   ]
  },
  {
   "cell_type": "code",
   "execution_count": 2,
   "id": "63836335",
   "metadata": {},
   "outputs": [
    {
     "data": {
      "text/html": [
       "<div>\n",
       "<style scoped>\n",
       "    .dataframe tbody tr th:only-of-type {\n",
       "        vertical-align: middle;\n",
       "    }\n",
       "\n",
       "    .dataframe tbody tr th {\n",
       "        vertical-align: top;\n",
       "    }\n",
       "\n",
       "    .dataframe thead th {\n",
       "        text-align: right;\n",
       "    }\n",
       "</style>\n",
       "<table border=\"1\" class=\"dataframe\">\n",
       "  <thead>\n",
       "    <tr style=\"text-align: right;\">\n",
       "      <th></th>\n",
       "      <th>url_short</th>\n",
       "      <th>offer_id</th>\n",
       "      <th>scrape_dt</th>\n",
       "      <th>type</th>\n",
       "      <th>price_raw</th>\n",
       "      <th>hp_raw</th>\n",
       "      <th>init_regist</th>\n",
       "      <th>mileage_raw</th>\n",
       "      <th>fuel_type</th>\n",
       "      <th>transmission</th>\n",
       "      <th>dealer_name</th>\n",
       "      <th>dealer_plz</th>\n",
       "      <th>dealer_city</th>\n",
       "      <th>dealer_street_house_nr</th>\n",
       "      <th>dealer_telnr</th>\n",
       "      <th>init_regist_my</th>\n",
       "      <th>init_regist_month</th>\n",
       "      <th>init_regist_year</th>\n",
       "      <th>init_regist_dt</th>\n",
       "    </tr>\n",
       "  </thead>\n",
       "  <tbody>\n",
       "    <tr>\n",
       "      <th>0</th>\n",
       "      <td>https://www.autoscout24.ch/7324420</td>\n",
       "      <td>7324420</td>\n",
       "      <td>2020_03_17 07:34:45</td>\n",
       "      <td>AUDI A5 Sportback 3.0 TDI quattro S-tronic (Li...</td>\n",
       "      <td>CHF 22'500.–</td>\n",
       "      <td>245 PS</td>\n",
       "      <td>10.2014</td>\n",
       "      <td>75'000 km</td>\n",
       "      <td>Diesel</td>\n",
       "      <td>Automatisiertes Schaltgetriebe</td>\n",
       "      <td>***confidential***</td>\n",
       "      <td>8488</td>\n",
       "      <td>Turbenthal</td>\n",
       "      <td>Mettlenstrasse 3</td>\n",
       "      <td>***confidential***</td>\n",
       "      <td>10.2014</td>\n",
       "      <td>10.0</td>\n",
       "      <td>2014.0</td>\n",
       "      <td>2014-10</td>\n",
       "    </tr>\n",
       "    <tr>\n",
       "      <th>1</th>\n",
       "      <td>https://www.autoscout24.ch/7512768</td>\n",
       "      <td>7512768</td>\n",
       "      <td>2020_03_17 07:34:55</td>\n",
       "      <td>MERCEDES-BENZ SLK 200 7G-Tronic (Cabriolet)</td>\n",
       "      <td>CHF 23'749.–</td>\n",
       "      <td>184 PS</td>\n",
       "      <td>6.2013</td>\n",
       "      <td>46'655 km</td>\n",
       "      <td>Benzin</td>\n",
       "      <td>Automat sequentiell</td>\n",
       "      <td>***confidential***</td>\n",
       "      <td>3186</td>\n",
       "      <td>Düdingen</td>\n",
       "      <td>Brugerastrasse 60</td>\n",
       "      <td>***confidential***</td>\n",
       "      <td>6.2013</td>\n",
       "      <td>6.0</td>\n",
       "      <td>2013.0</td>\n",
       "      <td>2013-06</td>\n",
       "    </tr>\n",
       "    <tr>\n",
       "      <th>2</th>\n",
       "      <td>https://www.autoscout24.ch/7512034</td>\n",
       "      <td>7512034</td>\n",
       "      <td>2020_03_17 07:35:03</td>\n",
       "      <td>MERCEDES-BENZ C 350 Avantgarde 4Matic 7G-Troni...</td>\n",
       "      <td>CHF 18'500.–</td>\n",
       "      <td>306 PS</td>\n",
       "      <td>6.2011</td>\n",
       "      <td>138'955 km</td>\n",
       "      <td>Benzin</td>\n",
       "      <td>Automat sequentiell</td>\n",
       "      <td>***confidential***</td>\n",
       "      <td>1262</td>\n",
       "      <td>Eysins</td>\n",
       "      <td>1262 Eysins</td>\n",
       "      <td>***confidential***</td>\n",
       "      <td>6.2011</td>\n",
       "      <td>6.0</td>\n",
       "      <td>2011.0</td>\n",
       "      <td>2011-06</td>\n",
       "    </tr>\n",
       "    <tr>\n",
       "      <th>3</th>\n",
       "      <td>https://www.autoscout24.ch/7512728</td>\n",
       "      <td>7512728</td>\n",
       "      <td>2020_03_17 07:35:06</td>\n",
       "      <td>MERCEDES-BENZ A 45 AMG 4Matic Speedshift 7G-DC...</td>\n",
       "      <td>CHF 36'000.–</td>\n",
       "      <td>360 PS</td>\n",
       "      <td>8.2015</td>\n",
       "      <td>43'000 km</td>\n",
       "      <td>Benzin</td>\n",
       "      <td>Automatisiertes Schaltgetriebe</td>\n",
       "      <td>***confidential***</td>\n",
       "      <td>4314</td>\n",
       "      <td>Zeiningen</td>\n",
       "      <td>Am Stutz 21</td>\n",
       "      <td>***confidential***</td>\n",
       "      <td>8.2015</td>\n",
       "      <td>8.0</td>\n",
       "      <td>2015.0</td>\n",
       "      <td>2015-08</td>\n",
       "    </tr>\n",
       "    <tr>\n",
       "      <th>4</th>\n",
       "      <td>https://www.autoscout24.ch/7490242</td>\n",
       "      <td>7490242</td>\n",
       "      <td>2020_03_17 07:35:16</td>\n",
       "      <td>AUDI A5 Sportback 2.0 TFSI Sport quattro S-tro...</td>\n",
       "      <td>CHF 48'500.–</td>\n",
       "      <td>252 PS</td>\n",
       "      <td>9.2018</td>\n",
       "      <td>43'300 km</td>\n",
       "      <td>Benzin</td>\n",
       "      <td>Automatisiertes Schaltgetriebe</td>\n",
       "      <td>***confidential***</td>\n",
       "      <td>3250</td>\n",
       "      <td>Lyss</td>\n",
       "      <td>3250 Lyss</td>\n",
       "      <td>***confidential***</td>\n",
       "      <td>9.2018</td>\n",
       "      <td>9.0</td>\n",
       "      <td>2018.0</td>\n",
       "      <td>2018-09</td>\n",
       "    </tr>\n",
       "  </tbody>\n",
       "</table>\n",
       "</div>"
      ],
      "text/plain": [
       "                            url_short  offer_id            scrape_dt  \\\n",
       "0  https://www.autoscout24.ch/7324420   7324420  2020_03_17 07:34:45   \n",
       "1  https://www.autoscout24.ch/7512768   7512768  2020_03_17 07:34:55   \n",
       "2  https://www.autoscout24.ch/7512034   7512034  2020_03_17 07:35:03   \n",
       "3  https://www.autoscout24.ch/7512728   7512728  2020_03_17 07:35:06   \n",
       "4  https://www.autoscout24.ch/7490242   7490242  2020_03_17 07:35:16   \n",
       "\n",
       "                                                type     price_raw  hp_raw  \\\n",
       "0  AUDI A5 Sportback 3.0 TDI quattro S-tronic (Li...  CHF 22'500.–  245 PS   \n",
       "1        MERCEDES-BENZ SLK 200 7G-Tronic (Cabriolet)  CHF 23'749.–  184 PS   \n",
       "2  MERCEDES-BENZ C 350 Avantgarde 4Matic 7G-Troni...  CHF 18'500.–  306 PS   \n",
       "3  MERCEDES-BENZ A 45 AMG 4Matic Speedshift 7G-DC...  CHF 36'000.–  360 PS   \n",
       "4  AUDI A5 Sportback 2.0 TFSI Sport quattro S-tro...  CHF 48'500.–  252 PS   \n",
       "\n",
       "  init_regist mileage_raw fuel_type                    transmission  \\\n",
       "0     10.2014   75'000 km    Diesel  Automatisiertes Schaltgetriebe   \n",
       "1      6.2013   46'655 km    Benzin             Automat sequentiell   \n",
       "2      6.2011  138'955 km    Benzin             Automat sequentiell   \n",
       "3      8.2015   43'000 km    Benzin  Automatisiertes Schaltgetriebe   \n",
       "4      9.2018   43'300 km    Benzin  Automatisiertes Schaltgetriebe   \n",
       "\n",
       "          dealer_name  dealer_plz dealer_city dealer_street_house_nr  \\\n",
       "0  ***confidential***        8488  Turbenthal       Mettlenstrasse 3   \n",
       "1  ***confidential***        3186    Düdingen      Brugerastrasse 60   \n",
       "2  ***confidential***        1262      Eysins            1262 Eysins   \n",
       "3  ***confidential***        4314   Zeiningen            Am Stutz 21   \n",
       "4  ***confidential***        3250        Lyss              3250 Lyss   \n",
       "\n",
       "         dealer_telnr init_regist_my  init_regist_month  init_regist_year  \\\n",
       "0  ***confidential***        10.2014               10.0            2014.0   \n",
       "1  ***confidential***         6.2013                6.0            2013.0   \n",
       "2  ***confidential***         6.2011                6.0            2011.0   \n",
       "3  ***confidential***         8.2015                8.0            2015.0   \n",
       "4  ***confidential***         9.2018                9.0            2018.0   \n",
       "\n",
       "  init_regist_dt  \n",
       "0        2014-10  \n",
       "1        2013-06  \n",
       "2        2011-06  \n",
       "3        2015-08  \n",
       "4        2018-09  "
      ]
     },
     "execution_count": 2,
     "metadata": {},
     "output_type": "execute_result"
    }
   ],
   "source": [
    "# Import data from csv to pandas dataframe named 'df'\n",
    "df = pd.read_csv('./Data/autoscout24_data.csv', sep=\";\", encoding='utf-8')\n",
    "\n",
    "# Change the column names to lowercase\n",
    "df.columns = df.columns.str.lower()\n",
    "\n",
    "# Display the first 5 rows of the dataframe\n",
    "df.head()\n"
   ]
  },
  {
   "cell_type": "markdown",
   "id": "b95e9f0e",
   "metadata": {},
   "source": [
    "## Count number of rows and columns in the data frame"
   ]
  },
  {
   "cell_type": "code",
   "execution_count": 3,
   "id": "8c8982fb",
   "metadata": {},
   "outputs": [
    {
     "name": "stdout",
     "output_type": "stream",
     "text": [
      "Number of rows:  3980\n",
      "Number of columns:  19\n"
     ]
    }
   ],
   "source": [
    "# Count number of rows and columns in the data frame\n",
    "print(\"Number of rows: \", df.shape[0])\n",
    "print(\"Number of columns: \", df.shape[1])\n"
   ]
  },
  {
   "cell_type": "markdown",
   "id": "ace6d22c",
   "metadata": {},
   "source": [
    "## Get data types (raw-format from web scraper)"
   ]
  },
  {
   "cell_type": "code",
   "execution_count": 4,
   "id": "aada7494",
   "metadata": {},
   "outputs": [
    {
     "data": {
      "text/plain": [
       "url_short                  object\n",
       "offer_id                    int64\n",
       "scrape_dt                  object\n",
       "type                       object\n",
       "price_raw                  object\n",
       "hp_raw                     object\n",
       "init_regist                object\n",
       "mileage_raw                object\n",
       "fuel_type                  object\n",
       "transmission               object\n",
       "dealer_name                object\n",
       "dealer_plz                  int64\n",
       "dealer_city                object\n",
       "dealer_street_house_nr     object\n",
       "dealer_telnr               object\n",
       "init_regist_my             object\n",
       "init_regist_month         float64\n",
       "init_regist_year          float64\n",
       "init_regist_dt             object\n",
       "dtype: object"
      ]
     },
     "execution_count": 4,
     "metadata": {},
     "output_type": "execute_result"
    }
   ],
   "source": [
    "# Get data types of each column\n",
    "df.dtypes\n"
   ]
  },
  {
   "cell_type": "markdown",
   "id": "9ea951fd",
   "metadata": {},
   "source": [
    "## Extract information from raw data using regular expressions (regex)"
   ]
  },
  {
   "cell_type": "markdown",
   "id": "54e63f6f",
   "metadata": {},
   "source": [
    "### Extract numerical values from mileage_raw"
   ]
  },
  {
   "cell_type": "code",
   "execution_count": 5,
   "id": "cb833795",
   "metadata": {},
   "outputs": [
    {
     "data": {
      "text/html": [
       "<div>\n",
       "<style scoped>\n",
       "    .dataframe tbody tr th:only-of-type {\n",
       "        vertical-align: middle;\n",
       "    }\n",
       "\n",
       "    .dataframe tbody tr th {\n",
       "        vertical-align: top;\n",
       "    }\n",
       "\n",
       "    .dataframe thead th {\n",
       "        text-align: right;\n",
       "    }\n",
       "</style>\n",
       "<table border=\"1\" class=\"dataframe\">\n",
       "  <thead>\n",
       "    <tr style=\"text-align: right;\">\n",
       "      <th></th>\n",
       "      <th>mileage_raw</th>\n",
       "      <th>mileage</th>\n",
       "    </tr>\n",
       "  </thead>\n",
       "  <tbody>\n",
       "    <tr>\n",
       "      <th>0</th>\n",
       "      <td>75'000 km</td>\n",
       "      <td>75000</td>\n",
       "    </tr>\n",
       "    <tr>\n",
       "      <th>1</th>\n",
       "      <td>46'655 km</td>\n",
       "      <td>46655</td>\n",
       "    </tr>\n",
       "    <tr>\n",
       "      <th>2</th>\n",
       "      <td>138'955 km</td>\n",
       "      <td>138955</td>\n",
       "    </tr>\n",
       "    <tr>\n",
       "      <th>3</th>\n",
       "      <td>43'000 km</td>\n",
       "      <td>43000</td>\n",
       "    </tr>\n",
       "    <tr>\n",
       "      <th>4</th>\n",
       "      <td>43'300 km</td>\n",
       "      <td>43300</td>\n",
       "    </tr>\n",
       "  </tbody>\n",
       "</table>\n",
       "</div>"
      ],
      "text/plain": [
       "  mileage_raw  mileage\n",
       "0   75'000 km    75000\n",
       "1   46'655 km    46655\n",
       "2  138'955 km   138955\n",
       "3   43'000 km    43000\n",
       "4   43'300 km    43300"
      ]
     },
     "execution_count": 5,
     "metadata": {},
     "output_type": "execute_result"
    }
   ],
   "source": [
    "# Extract numerical values (note the 'join' function)\n",
    "mileage = []\n",
    "for i in df['mileage_raw']:\n",
    "    d1 = re.findall(\"\\d+\", i)\n",
    "    try:\n",
    "        d2 = int(''.join(d1))\n",
    "    except:\n",
    "        d2 = None\n",
    "    mileage.append(d2)\n",
    "\n",
    "# Save as new variable in the pandas data frame\n",
    "df['mileage'] = pd.Series(mileage, dtype=\"Int64\")\n",
    "\n",
    "# Show first records of data frame\n",
    "df[['mileage_raw', 'mileage']].head()\n"
   ]
  },
  {
   "cell_type": "markdown",
   "id": "d7f049dc",
   "metadata": {},
   "source": [
    "### Extract numerical values from hp_raw"
   ]
  },
  {
   "cell_type": "code",
   "execution_count": 6,
   "id": "87157a58",
   "metadata": {},
   "outputs": [
    {
     "data": {
      "text/html": [
       "<div>\n",
       "<style scoped>\n",
       "    .dataframe tbody tr th:only-of-type {\n",
       "        vertical-align: middle;\n",
       "    }\n",
       "\n",
       "    .dataframe tbody tr th {\n",
       "        vertical-align: top;\n",
       "    }\n",
       "\n",
       "    .dataframe thead th {\n",
       "        text-align: right;\n",
       "    }\n",
       "</style>\n",
       "<table border=\"1\" class=\"dataframe\">\n",
       "  <thead>\n",
       "    <tr style=\"text-align: right;\">\n",
       "      <th></th>\n",
       "      <th>hp_raw</th>\n",
       "      <th>hp</th>\n",
       "    </tr>\n",
       "  </thead>\n",
       "  <tbody>\n",
       "    <tr>\n",
       "      <th>0</th>\n",
       "      <td>245 PS</td>\n",
       "      <td>245</td>\n",
       "    </tr>\n",
       "    <tr>\n",
       "      <th>1</th>\n",
       "      <td>184 PS</td>\n",
       "      <td>184</td>\n",
       "    </tr>\n",
       "    <tr>\n",
       "      <th>2</th>\n",
       "      <td>306 PS</td>\n",
       "      <td>306</td>\n",
       "    </tr>\n",
       "    <tr>\n",
       "      <th>3</th>\n",
       "      <td>360 PS</td>\n",
       "      <td>360</td>\n",
       "    </tr>\n",
       "    <tr>\n",
       "      <th>4</th>\n",
       "      <td>252 PS</td>\n",
       "      <td>252</td>\n",
       "    </tr>\n",
       "  </tbody>\n",
       "</table>\n",
       "</div>"
      ],
      "text/plain": [
       "   hp_raw   hp\n",
       "0  245 PS  245\n",
       "1  184 PS  184\n",
       "2  306 PS  306\n",
       "3  360 PS  360\n",
       "4  252 PS  252"
      ]
     },
     "execution_count": 6,
     "metadata": {},
     "output_type": "execute_result"
    }
   ],
   "source": [
    "# Extract numerical values (note the 'join' function)\n",
    "hp = []\n",
    "for i in df['hp_raw']:\n",
    "    d1 = re.findall(\"\\d+\", i)\n",
    "    try:\n",
    "        d2 = int(''.join(d1))\n",
    "    except:\n",
    "        d2 = None\n",
    "    hp.append(d2)\n",
    "\n",
    "# Save as new variable in the pandas data frame\n",
    "df['hp'] = pd.Series(hp, dtype=\"Int64\")\n",
    "\n",
    "# Show first records of data frame\n",
    "df[['hp_raw', 'hp']].head()\n"
   ]
  },
  {
   "cell_type": "markdown",
   "id": "319ca1bd",
   "metadata": {},
   "source": [
    "### Extract numerical values from price_raw"
   ]
  },
  {
   "cell_type": "code",
   "execution_count": 7,
   "id": "2577e032",
   "metadata": {},
   "outputs": [
    {
     "data": {
      "text/html": [
       "<div>\n",
       "<style scoped>\n",
       "    .dataframe tbody tr th:only-of-type {\n",
       "        vertical-align: middle;\n",
       "    }\n",
       "\n",
       "    .dataframe tbody tr th {\n",
       "        vertical-align: top;\n",
       "    }\n",
       "\n",
       "    .dataframe thead th {\n",
       "        text-align: right;\n",
       "    }\n",
       "</style>\n",
       "<table border=\"1\" class=\"dataframe\">\n",
       "  <thead>\n",
       "    <tr style=\"text-align: right;\">\n",
       "      <th></th>\n",
       "      <th>price_raw</th>\n",
       "      <th>price</th>\n",
       "    </tr>\n",
       "  </thead>\n",
       "  <tbody>\n",
       "    <tr>\n",
       "      <th>0</th>\n",
       "      <td>CHF 22'500.–</td>\n",
       "      <td>22500</td>\n",
       "    </tr>\n",
       "    <tr>\n",
       "      <th>1</th>\n",
       "      <td>CHF 23'749.–</td>\n",
       "      <td>23749</td>\n",
       "    </tr>\n",
       "    <tr>\n",
       "      <th>2</th>\n",
       "      <td>CHF 18'500.–</td>\n",
       "      <td>18500</td>\n",
       "    </tr>\n",
       "    <tr>\n",
       "      <th>3</th>\n",
       "      <td>CHF 36'000.–</td>\n",
       "      <td>36000</td>\n",
       "    </tr>\n",
       "    <tr>\n",
       "      <th>4</th>\n",
       "      <td>CHF 48'500.–</td>\n",
       "      <td>48500</td>\n",
       "    </tr>\n",
       "  </tbody>\n",
       "</table>\n",
       "</div>"
      ],
      "text/plain": [
       "      price_raw  price\n",
       "0  CHF 22'500.–  22500\n",
       "1  CHF 23'749.–  23749\n",
       "2  CHF 18'500.–  18500\n",
       "3  CHF 36'000.–  36000\n",
       "4  CHF 48'500.–  48500"
      ]
     },
     "execution_count": 7,
     "metadata": {},
     "output_type": "execute_result"
    }
   ],
   "source": [
    "# Extract numerical values (note the 'join' function)\n",
    "price = []\n",
    "for i in df['price_raw']:\n",
    "    d1 = re.findall(\"CHF\\s*([\\d']+)\\.–\", i)\n",
    "    try:\n",
    "        d2 = d1[0].strip().replace(\"'\", \"\")\n",
    "    except:\n",
    "        d2 = None\n",
    "    price.append(d2)\n",
    "\n",
    "# Save as new variable in the pandas data frame\n",
    "df['price'] = pd.Series(price, dtype=\"Int64\")\n",
    "\n",
    "# Show first records of data frame\n",
    "df[['price_raw', 'price']].head()\n",
    "\n"
   ]
  },
  {
   "cell_type": "markdown",
   "id": "53c03c80",
   "metadata": {},
   "source": [
    "### Get data types of all variables, including the new once"
   ]
  },
  {
   "cell_type": "code",
   "execution_count": 8,
   "id": "aa64d342",
   "metadata": {},
   "outputs": [
    {
     "data": {
      "text/plain": [
       "url_short                  object\n",
       "offer_id                    int64\n",
       "scrape_dt                  object\n",
       "type                       object\n",
       "price_raw                  object\n",
       "hp_raw                     object\n",
       "init_regist                object\n",
       "mileage_raw                object\n",
       "fuel_type                  object\n",
       "transmission               object\n",
       "dealer_name                object\n",
       "dealer_plz                  int64\n",
       "dealer_city                object\n",
       "dealer_street_house_nr     object\n",
       "dealer_telnr               object\n",
       "init_regist_my             object\n",
       "init_regist_month         float64\n",
       "init_regist_year          float64\n",
       "init_regist_dt             object\n",
       "mileage                     Int64\n",
       "hp                          Int64\n",
       "price                       Int64\n",
       "dtype: object"
      ]
     },
     "execution_count": 8,
     "metadata": {},
     "output_type": "execute_result"
    }
   ],
   "source": [
    "# Get data types of all variables\n",
    "df.dtypes\n"
   ]
  },
  {
   "cell_type": "markdown",
   "id": "bad3c2d0",
   "metadata": {},
   "source": [
    "## Count and remove missing values"
   ]
  },
  {
   "cell_type": "code",
   "execution_count": 9,
   "id": "2cb2e71c",
   "metadata": {},
   "outputs": [
    {
     "name": "stdout",
     "output_type": "stream",
     "text": [
      "Missing values before removing:  23\n",
      "Missing values after removing:  0\n"
     ]
    }
   ],
   "source": [
    "# Count and remove missing values\n",
    "print(\"Missing values before removing: \", df.isnull().sum().sum())\n",
    "df = df.dropna()\n",
    "print(\"Missing values after removing: \", df.isnull().sum().sum())\n",
    "\n",
    "# Reset the index of the dataframe\n",
    "df = df.reset_index(drop=True)\n"
   ]
  },
  {
   "cell_type": "markdown",
   "id": "92641a30",
   "metadata": {},
   "source": [
    "## Count and remove duplicated values"
   ]
  },
  {
   "cell_type": "code",
   "execution_count": 10,
   "id": "497f0862",
   "metadata": {},
   "outputs": [
    {
     "name": "stdout",
     "output_type": "stream",
     "text": [
      "Number of duplicates before removing:  0\n",
      "Number of duplicates after removing:  0\n"
     ]
    }
   ],
   "source": [
    "# Count and remove duplicates\n",
    "print(\"Number of duplicates before removing: \", df.duplicated().sum())\n",
    "df = df.drop_duplicates()\n",
    "print(\"Number of duplicates after removing: \", df.duplicated().sum())\n",
    "\n",
    "# Reset the index of the dataframe\n",
    "df = df.reset_index(drop=True)\n"
   ]
  },
  {
   "cell_type": "markdown",
   "id": "35ff8127",
   "metadata": {},
   "source": [
    "## Use string manipulation methods to create additional variables from the car type"
   ]
  },
  {
   "cell_type": "markdown",
   "id": "3e913110",
   "metadata": {},
   "source": [
    "### Change strings in 'type' to uppercase"
   ]
  },
  {
   "cell_type": "code",
   "execution_count": 11,
   "id": "9892b303",
   "metadata": {},
   "outputs": [
    {
     "data": {
      "text/plain": [
       "0    AUDI A5 SPORTBACK 3.0 TDI QUATTRO S-TRONIC (LI...\n",
       "1          MERCEDES-BENZ SLK 200 7G-TRONIC (CABRIOLET)\n",
       "2    MERCEDES-BENZ C 350 AVANTGARDE 4MATIC 7G-TRONI...\n",
       "3    MERCEDES-BENZ A 45 AMG 4MATIC SPEEDSHIFT 7G-DC...\n",
       "4    AUDI A5 SPORTBACK 2.0 TFSI SPORT QUATTRO S-TRO...\n",
       "Name: type, dtype: object"
      ]
     },
     "execution_count": 11,
     "metadata": {},
     "output_type": "execute_result"
    }
   ],
   "source": [
    "# Change strings in 'type' to uppercase and remove leading and trailing whitespaces\n",
    "df['type'] = df['type'].str.upper().str.strip()\n",
    "\n",
    "# Display variable 'type'\n",
    "df['type'].head()\n"
   ]
  },
  {
   "cell_type": "markdown",
   "id": "0aad2c21",
   "metadata": {},
   "source": [
    "### Calculate length of strings in 'type'"
   ]
  },
  {
   "cell_type": "code",
   "execution_count": 12,
   "id": "10a83fdd",
   "metadata": {},
   "outputs": [
    {
     "data": {
      "image/png": "[encoded data removed]",
      "text/plain": [
       "<Figure size 700x400 with 1 Axes>"
      ]
     },
     "metadata": {},
     "output_type": "display_data"
    }
   ],
   "source": [
    "# Calculate new variable 'type_len' with length of strings in 'type', use .appy()\n",
    "df['type_len'] = df['type'].apply(len)\n",
    "\n",
    "# Display variables 'type' and 'type_len'\n",
    "df[['type', 'type_len']].head()\n",
    "\n",
    "# Plot histogram of variable 'type_len'\n",
    "plt.figure(figsize=(7, 4))\n",
    "sns.histplot(df['type_len'], bins=25, kde=True)\n",
    "plt.title(\"Histogram of variable 'type_len'\")\n",
    "plt.xlabel('Type length')\n",
    "plt.ylabel('Frequency')\n",
    "plt.show()\n"
   ]
  },
  {
   "cell_type": "markdown",
   "id": "d33d3fd9",
   "metadata": {},
   "source": [
    "### Create binary (0/1) variable 'luxury_car'"
   ]
  },
  {
   "cell_type": "code",
   "execution_count": 13,
   "id": "ead7acbe",
   "metadata": {},
   "outputs": [
    {
     "name": "stdout",
     "output_type": "stream",
     "text": [
      "299\n"
     ]
    },
    {
     "data": {
      "text/html": [
       "<div>\n",
       "<style scoped>\n",
       "    .dataframe tbody tr th:only-of-type {\n",
       "        vertical-align: middle;\n",
       "    }\n",
       "\n",
       "    .dataframe tbody tr th {\n",
       "        vertical-align: top;\n",
       "    }\n",
       "\n",
       "    .dataframe thead th {\n",
       "        text-align: right;\n",
       "    }\n",
       "</style>\n",
       "<table border=\"1\" class=\"dataframe\">\n",
       "  <thead>\n",
       "    <tr style=\"text-align: right;\">\n",
       "      <th></th>\n",
       "      <th>type</th>\n",
       "      <th>luxury_car</th>\n",
       "    </tr>\n",
       "  </thead>\n",
       "  <tbody>\n",
       "    <tr>\n",
       "      <th>8</th>\n",
       "      <td>PORSCHE 911 TURBO CABRIO PDK (CABRIOLET)</td>\n",
       "      <td>1</td>\n",
       "    </tr>\n",
       "    <tr>\n",
       "      <th>26</th>\n",
       "      <td>FERRARI 348 TS (CABRIOLET)</td>\n",
       "      <td>1</td>\n",
       "    </tr>\n",
       "    <tr>\n",
       "      <th>57</th>\n",
       "      <td>PORSCHE 911 SC (COUPÉ)</td>\n",
       "      <td>1</td>\n",
       "    </tr>\n",
       "    <tr>\n",
       "      <th>64</th>\n",
       "      <td>PORSCHE 911 CARRERA 4S PDK (COUPÉ)</td>\n",
       "      <td>1</td>\n",
       "    </tr>\n",
       "    <tr>\n",
       "      <th>65</th>\n",
       "      <td>PORSCHE 911 CARRERA 4S CABRIO (CABRIOLET)</td>\n",
       "      <td>1</td>\n",
       "    </tr>\n",
       "    <tr>\n",
       "      <th>...</th>\n",
       "      <td>...</td>\n",
       "      <td>...</td>\n",
       "    </tr>\n",
       "    <tr>\n",
       "      <th>3933</th>\n",
       "      <td>FERRARI 458 ITALIA 4.5 V8 (COUPÉ)</td>\n",
       "      <td>1</td>\n",
       "    </tr>\n",
       "    <tr>\n",
       "      <th>3934</th>\n",
       "      <td>FERRARI 458 ITALIA 4.5 V8 (COUPÉ)</td>\n",
       "      <td>1</td>\n",
       "    </tr>\n",
       "    <tr>\n",
       "      <th>3958</th>\n",
       "      <td>PORSCHE 911 TURBO (S) CABRIO (CABRIOLET)</td>\n",
       "      <td>1</td>\n",
       "    </tr>\n",
       "    <tr>\n",
       "      <th>3964</th>\n",
       "      <td>BENTLEY ARNAGE RED LABEL (LIMOUSINE)</td>\n",
       "      <td>1</td>\n",
       "    </tr>\n",
       "    <tr>\n",
       "      <th>3966</th>\n",
       "      <td>FERRARI F360 SPIDER (CABRIOLET)</td>\n",
       "      <td>1</td>\n",
       "    </tr>\n",
       "  </tbody>\n",
       "</table>\n",
       "<p>299 rows × 2 columns</p>\n",
       "</div>"
      ],
      "text/plain": [
       "                                           type  luxury_car\n",
       "8      PORSCHE 911 TURBO CABRIO PDK (CABRIOLET)           1\n",
       "26                   FERRARI 348 TS (CABRIOLET)           1\n",
       "57                       PORSCHE 911 SC (COUPÉ)           1\n",
       "64           PORSCHE 911 CARRERA 4S PDK (COUPÉ)           1\n",
       "65    PORSCHE 911 CARRERA 4S CABRIO (CABRIOLET)           1\n",
       "...                                         ...         ...\n",
       "3933          FERRARI 458 ITALIA 4.5 V8 (COUPÉ)           1\n",
       "3934          FERRARI 458 ITALIA 4.5 V8 (COUPÉ)           1\n",
       "3958   PORSCHE 911 TURBO (S) CABRIO (CABRIOLET)           1\n",
       "3964       BENTLEY ARNAGE RED LABEL (LIMOUSINE)           1\n",
       "3966            FERRARI F360 SPIDER (CABRIOLET)           1\n",
       "\n",
       "[299 rows x 2 columns]"
      ]
     },
     "execution_count": 13,
     "metadata": {},
     "output_type": "execute_result"
    }
   ],
   "source": [
    "# Create a pattern which can be used to search the variable 'type'\n",
    "pattern = 'BUGATTI|FERRARI|ROLLS-ROYCE|LAMBORGHINI|BENTLEY|ASTON MARTIN|MASERATI|MCLAREN|PORSCHE'\n",
    "\n",
    "# Create new variable 'luxury_car' as binary dummy (0/1) variable\n",
    "df['luxury_car'] = df['type'].str.contains(pat = pattern).astype(int)\n",
    "print(df['luxury_car'].sum())\n",
    "\n",
    "# Show values\n",
    "df[['type','luxury_car',]].loc[df['luxury_car'] == 1]"
   ]
  },
  {
   "cell_type": "markdown",
   "id": "48bf12b3",
   "metadata": {},
   "source": [
    "### Create variable 'price_per_hp'"
   ]
  },
  {
   "cell_type": "code",
   "execution_count": 14,
   "id": "c5090410",
   "metadata": {},
   "outputs": [
    {
     "data": {
      "text/html": [
       "<div>\n",
       "<style scoped>\n",
       "    .dataframe tbody tr th:only-of-type {\n",
       "        vertical-align: middle;\n",
       "    }\n",
       "\n",
       "    .dataframe tbody tr th {\n",
       "        vertical-align: top;\n",
       "    }\n",
       "\n",
       "    .dataframe thead th {\n",
       "        text-align: right;\n",
       "    }\n",
       "</style>\n",
       "<table border=\"1\" class=\"dataframe\">\n",
       "  <thead>\n",
       "    <tr style=\"text-align: right;\">\n",
       "      <th></th>\n",
       "      <th>price</th>\n",
       "      <th>hp</th>\n",
       "      <th>price_per_hp</th>\n",
       "    </tr>\n",
       "  </thead>\n",
       "  <tbody>\n",
       "    <tr>\n",
       "      <th>0</th>\n",
       "      <td>22500</td>\n",
       "      <td>245</td>\n",
       "      <td>91.84</td>\n",
       "    </tr>\n",
       "    <tr>\n",
       "      <th>1</th>\n",
       "      <td>23749</td>\n",
       "      <td>184</td>\n",
       "      <td>129.07</td>\n",
       "    </tr>\n",
       "    <tr>\n",
       "      <th>2</th>\n",
       "      <td>18500</td>\n",
       "      <td>306</td>\n",
       "      <td>60.46</td>\n",
       "    </tr>\n",
       "    <tr>\n",
       "      <th>3</th>\n",
       "      <td>36000</td>\n",
       "      <td>360</td>\n",
       "      <td>100.0</td>\n",
       "    </tr>\n",
       "    <tr>\n",
       "      <th>4</th>\n",
       "      <td>48500</td>\n",
       "      <td>252</td>\n",
       "      <td>192.46</td>\n",
       "    </tr>\n",
       "  </tbody>\n",
       "</table>\n",
       "</div>"
      ],
      "text/plain": [
       "   price   hp  price_per_hp\n",
       "0  22500  245         91.84\n",
       "1  23749  184        129.07\n",
       "2  18500  306         60.46\n",
       "3  36000  360         100.0\n",
       "4  48500  252        192.46"
      ]
     },
     "execution_count": 14,
     "metadata": {},
     "output_type": "execute_result"
    }
   ],
   "source": [
    "# Create variable 'price_per_hp' (round to 2 decimal places)\n",
    "df['price_per_hp'] = round(df['price'] / df['hp'], 2)\n",
    "\n",
    "# Display variables 'price', 'hp' and 'price_per_hp'\n",
    "df[['price', 'hp', 'price_per_hp']].head()\n"
   ]
  },
  {
   "cell_type": "markdown",
   "id": "68ea9d52",
   "metadata": {},
   "source": [
    "### Include current datetime as time stamp"
   ]
  },
  {
   "cell_type": "code",
   "execution_count": 15,
   "id": "fc2aaaf4",
   "metadata": {},
   "outputs": [
    {
     "data": {
      "text/plain": [
       "0    2024-11-10 20:30:23\n",
       "1    2024-11-10 20:30:23\n",
       "2    2024-11-10 20:30:23\n",
       "3    2024-11-10 20:30:23\n",
       "4    2024-11-10 20:30:23\n",
       "Name: timestamp, dtype: object"
      ]
     },
     "execution_count": 15,
     "metadata": {},
     "output_type": "execute_result"
    }
   ],
   "source": [
    "# Include current datetime as time stamp in the format 'YYYY-MM-DD HH:MM:SS'\n",
    "df['timestamp'] = datetime.now().strftime('%Y-%m-%d %H:%M:%S')\n",
    "df['timestamp'].head()"
   ]
  },
  {
   "cell_type": "markdown",
   "id": "711a89b8",
   "metadata": {},
   "source": [
    "## Discretization of numerical data"
   ]
  },
  {
   "cell_type": "code",
   "execution_count": 16,
   "id": "11798e2d",
   "metadata": {},
   "outputs": [
    {
     "data": {
      "image/png": "[encoded data removed]",
      "text/plain": [
       "<Figure size 800x300 with 2 Axes>"
      ]
     },
     "metadata": {},
     "output_type": "display_data"
    },
    {
     "data": {
      "text/html": [
       "<div>\n",
       "<style scoped>\n",
       "    .dataframe tbody tr th:only-of-type {\n",
       "        vertical-align: middle;\n",
       "    }\n",
       "\n",
       "    .dataframe tbody tr th {\n",
       "        vertical-align: top;\n",
       "    }\n",
       "\n",
       "    .dataframe thead th {\n",
       "        text-align: right;\n",
       "    }\n",
       "</style>\n",
       "<table border=\"1\" class=\"dataframe\">\n",
       "  <thead>\n",
       "    <tr style=\"text-align: right;\">\n",
       "      <th></th>\n",
       "      <th>price_per_hp</th>\n",
       "      <th>price_per_hp_bin</th>\n",
       "    </tr>\n",
       "  </thead>\n",
       "  <tbody>\n",
       "    <tr>\n",
       "      <th>0</th>\n",
       "      <td>91.84</td>\n",
       "      <td>normal</td>\n",
       "    </tr>\n",
       "    <tr>\n",
       "      <th>1</th>\n",
       "      <td>129.07</td>\n",
       "      <td>expensive</td>\n",
       "    </tr>\n",
       "    <tr>\n",
       "      <th>2</th>\n",
       "      <td>60.46</td>\n",
       "      <td>cheap</td>\n",
       "    </tr>\n",
       "    <tr>\n",
       "      <th>3</th>\n",
       "      <td>100.0</td>\n",
       "      <td>normal</td>\n",
       "    </tr>\n",
       "    <tr>\n",
       "      <th>4</th>\n",
       "      <td>192.46</td>\n",
       "      <td>very expensive</td>\n",
       "    </tr>\n",
       "  </tbody>\n",
       "</table>\n",
       "</div>"
      ],
      "text/plain": [
       "   price_per_hp price_per_hp_bin\n",
       "0         91.84           normal\n",
       "1        129.07        expensive\n",
       "2         60.46            cheap\n",
       "3         100.0           normal\n",
       "4        192.46   very expensive"
      ]
     },
     "execution_count": 16,
     "metadata": {},
     "output_type": "execute_result"
    }
   ],
   "source": [
    "# Discretization of the variable 'price_per_hp' into 5 bins (note the 'qcut' function)\n",
    "df['price_per_hp_bin'] = pd.qcut(df['price_per_hp'], \n",
    "                                 q=5,  # number of quantiles\n",
    "                                 labels=['very cheap', \n",
    "                                         'cheap', \n",
    "                                         'normal', \n",
    "                                         'expensive', \n",
    "                                         'very expensive'])\n",
    "\n",
    "# Show histogram of price_per_hp and barchart of variable 'price_per_hp_bin'\n",
    "plt.figure(figsize=(8, 3))\n",
    "\n",
    "# Create a 1x2 grid\n",
    "plt.subplot(1, 2, 1)\n",
    "sns.histplot(df['price_per_hp'], bins=25, kde=True)\n",
    "plt.title(\"Histogram of variable 'price_per_hp'\", fontsize=10)\n",
    "plt.xlabel('Price per HP')\n",
    "plt.ylabel('Frequency')\n",
    "\n",
    "plt.subplot(1, 2, 2)\n",
    "sns.countplot(data=df, x='price_per_hp_bin', orient='v')\n",
    "plt.title(\"Barchart of variable 'price_per_hp_bin'\", fontsize=10)\n",
    "plt.xlabel('Price category')\n",
    "plt.ylabel('Frequency')\n",
    "plt.xticks(rotation=45)\n",
    "plt.show()\n",
    "\n",
    "# Display variables 'price_per_hp' and 'price_per_hp_bin'\n",
    "df[['price_per_hp', 'price_per_hp_bin']].head()\n",
    "\n"
   ]
  },
  {
   "cell_type": "markdown",
   "id": "83721bac",
   "metadata": {},
   "source": [
    "## One Hot Encoding"
   ]
  },
  {
   "cell_type": "code",
   "execution_count": 17,
   "id": "8ce3985e",
   "metadata": {},
   "outputs": [
    {
     "data": {
      "text/html": [
       "<div>\n",
       "<style scoped>\n",
       "    .dataframe tbody tr th:only-of-type {\n",
       "        vertical-align: middle;\n",
       "    }\n",
       "\n",
       "    .dataframe tbody tr th {\n",
       "        vertical-align: top;\n",
       "    }\n",
       "\n",
       "    .dataframe thead th {\n",
       "        text-align: right;\n",
       "    }\n",
       "</style>\n",
       "<table border=\"1\" class=\"dataframe\">\n",
       "  <thead>\n",
       "    <tr style=\"text-align: right;\">\n",
       "      <th></th>\n",
       "      <th>price_per_hp_bin_very cheap</th>\n",
       "      <th>price_per_hp_bin_cheap</th>\n",
       "      <th>price_per_hp_bin_normal</th>\n",
       "      <th>price_per_hp_bin_expensive</th>\n",
       "      <th>price_per_hp_bin_very expensive</th>\n",
       "    </tr>\n",
       "  </thead>\n",
       "  <tbody>\n",
       "    <tr>\n",
       "      <th>0</th>\n",
       "      <td>0</td>\n",
       "      <td>0</td>\n",
       "      <td>1</td>\n",
       "      <td>0</td>\n",
       "      <td>0</td>\n",
       "    </tr>\n",
       "    <tr>\n",
       "      <th>1</th>\n",
       "      <td>0</td>\n",
       "      <td>0</td>\n",
       "      <td>0</td>\n",
       "      <td>1</td>\n",
       "      <td>0</td>\n",
       "    </tr>\n",
       "    <tr>\n",
       "      <th>2</th>\n",
       "      <td>0</td>\n",
       "      <td>1</td>\n",
       "      <td>0</td>\n",
       "      <td>0</td>\n",
       "      <td>0</td>\n",
       "    </tr>\n",
       "    <tr>\n",
       "      <th>3</th>\n",
       "      <td>0</td>\n",
       "      <td>0</td>\n",
       "      <td>1</td>\n",
       "      <td>0</td>\n",
       "      <td>0</td>\n",
       "    </tr>\n",
       "    <tr>\n",
       "      <th>4</th>\n",
       "      <td>0</td>\n",
       "      <td>0</td>\n",
       "      <td>0</td>\n",
       "      <td>0</td>\n",
       "      <td>1</td>\n",
       "    </tr>\n",
       "  </tbody>\n",
       "</table>\n",
       "</div>"
      ],
      "text/plain": [
       "   price_per_hp_bin_very cheap  price_per_hp_bin_cheap  \\\n",
       "0                            0                       0   \n",
       "1                            0                       0   \n",
       "2                            0                       1   \n",
       "3                            0                       0   \n",
       "4                            0                       0   \n",
       "\n",
       "   price_per_hp_bin_normal  price_per_hp_bin_expensive  \\\n",
       "0                        1                           0   \n",
       "1                        0                           1   \n",
       "2                        0                           0   \n",
       "3                        1                           0   \n",
       "4                        0                           0   \n",
       "\n",
       "   price_per_hp_bin_very expensive  \n",
       "0                                0  \n",
       "1                                0  \n",
       "2                                0  \n",
       "3                                0  \n",
       "4                                1  "
      ]
     },
     "execution_count": 17,
     "metadata": {},
     "output_type": "execute_result"
    }
   ],
   "source": [
    "# One Hot Encoding of the variable 'price_per_m2_cat'\n",
    "try:\n",
    "    df = pd.get_dummies(df, \n",
    "                        columns=['price_per_hp_bin'], \n",
    "                        drop_first=False)\n",
    "except:\n",
    "    print(\"Dummy variables already exist\")\n",
    "\n",
    "# Convert boolean values to integers (0 and 1)\n",
    "df[df.filter(like='price_per_hp_bin').columns] = df.filter(like='price_per_hp_bin').astype(int)\n",
    "\n",
    "# Show values of the new dummy variables\n",
    "df.filter(like='price_per_hp_bin').head()\n"
   ]
  },
  {
   "cell_type": "markdown",
   "id": "b8180797",
   "metadata": {},
   "source": [
    "## Scaling"
   ]
  },
  {
   "cell_type": "markdown",
   "id": "4833f1c7",
   "metadata": {},
   "source": [
    "### Min-Max Scaling"
   ]
  },
  {
   "cell_type": "code",
   "execution_count": 18,
   "id": "15262af8",
   "metadata": {},
   "outputs": [
    {
     "data": {
      "image/png": "[encoded data removed]",
      "text/plain": [
       "<Figure size 700x300 with 2 Axes>"
      ]
     },
     "metadata": {},
     "output_type": "display_data"
    }
   ],
   "source": [
    "# Min-Max scaling of the variable 'mileage'\n",
    "df['mileage_scaled_minmax'] = (df['mileage'] - df['mileage'].min()) / (df['mileage'].max() - df['mileage'].min())\n",
    "\n",
    "# Histogram of the variable 'area' and 'area_scaled'\n",
    "ax = df[['mileage', 'mileage_scaled_minmax']].hist(bins=25, \n",
    "                                      figsize=(7, 3), \n",
    "                                      color='steelblue')\n",
    "                                      \n",
    "# Set the y-axis range for each subplot and add labels\n",
    "for axis, label in zip(ax.flatten(), ['Mileage', 'Min_Max_Scaled(Mileage)']):\n",
    "    axis.set_ylim(0, 500)\n",
    "    axis.set_xlabel(label)\n",
    "    axis.set_ylabel('Frequency')\n",
    "\n",
    "# Display the plot\n",
    "plt.show()"
   ]
  },
  {
   "cell_type": "markdown",
   "id": "e41084a3",
   "metadata": {},
   "source": [
    "### Max-Absolute Scaling"
   ]
  },
  {
   "cell_type": "code",
   "execution_count": 19,
   "id": "fbb06012",
   "metadata": {},
   "outputs": [
    {
     "data": {
      "image/png": "[encoded data removed]",
      "text/plain": [
       "<Figure size 700x300 with 2 Axes>"
      ]
     },
     "metadata": {},
     "output_type": "display_data"
    }
   ],
   "source": [
    "# Max-Absolute scaling of the variable 'area'\n",
    "df['mileage_scaled_max_abs'] = df['mileage'] / df['mileage'].abs().max()\n",
    "\n",
    "# Histogram of the variable 'area' and 'area_scaled_max_abs'\n",
    "ax = df[['mileage', 'mileage_scaled_max_abs']].hist(bins=25, \n",
    "                                              figsize=(7, 3), \n",
    "                                              color='steelblue')\n",
    "\n",
    "# Set the y-axis range for each subplot and add labels\n",
    "for axis, label in zip(ax.flatten(), ['Mileage', 'Max_Abs_Scaled(Mileage)']):\n",
    "    axis.set_ylim(0, 500)\n",
    "    axis.set_xlabel(label)\n",
    "    axis.set_ylabel('Frequency')\n",
    "\n",
    "# Display the plot\n",
    "plt.show()"
   ]
  },
  {
   "cell_type": "markdown",
   "id": "3a281e86",
   "metadata": {},
   "source": [
    "### Robust Scaling"
   ]
  },
  {
   "cell_type": "code",
   "execution_count": 20,
   "id": "faa7e58e",
   "metadata": {},
   "outputs": [
    {
     "data": {
      "image/png": "[encoded data removed]",
      "text/plain": [
       "<Figure size 700x300 with 2 Axes>"
      ]
     },
     "metadata": {},
     "output_type": "display_data"
    }
   ],
   "source": [
    "# Robust scaling of the variable 'area'\n",
    "df['mileage_scaled_robust'] = (df['mileage'] - df['mileage'].median()) / \\\n",
    "                           (df['mileage'].quantile(0.75) \\\n",
    "                           - df['mileage'].quantile(0.25))\n",
    "\n",
    "# Histogram of the variable 'area' and 'area_scaled_robust'\n",
    "ax = df[['mileage', 'mileage_scaled_robust']].hist(bins=25, \n",
    "                                             figsize=(7, 3), \n",
    "                                             color='steelblue')\n",
    "\n",
    "# Set the y-axis range for each subplot and add labels\n",
    "for axis, label in zip(ax.flatten(), ['Mileage', 'Scaled_Robust(Mileage)']):\n",
    "    axis.set_ylim(0, 500)\n",
    "    axis.set_xlabel(label)\n",
    "    axis.set_ylabel('Frequency')\n",
    "\n",
    "# Display the plot\n",
    "plt.show()"
   ]
  },
  {
   "cell_type": "markdown",
   "id": "862fcc01",
   "metadata": {},
   "source": [
    "## Standardization"
   ]
  },
  {
   "cell_type": "markdown",
   "id": "5c29f286",
   "metadata": {},
   "source": [
    "### Z-score Normalization"
   ]
  },
  {
   "cell_type": "code",
   "execution_count": 21,
   "id": "88211811",
   "metadata": {},
   "outputs": [
    {
     "data": {
      "image/png": "[encoded data removed]",
      "text/plain": [
       "<Figure size 700x300 with 2 Axes>"
      ]
     },
     "metadata": {},
     "output_type": "display_data"
    }
   ],
   "source": [
    "# Z-score Normalization of the variable 'area'\n",
    "df['mileage_scaled_z'] = (df['mileage'] - df['mileage'].mean()) / df['mileage'].std()\n",
    "\n",
    "# Histogram of the variable 'area' and 'area_scaled_z'\n",
    "ax = df[['mileage', 'mileage_scaled_z']].hist(bins=25, \n",
    "                                        figsize=(7, 3), \n",
    "                                        color='steelblue')\n",
    "\n",
    "# Set the y-axis range for each subplot and add labels\n",
    "for axis, label in zip(ax.flatten(), ['Mileage', 'Scaled_Z(Mileage)']):\n",
    "    axis.set_ylim(0, 500)\n",
    "    axis.set_xlabel(label)\n",
    "    axis.set_ylabel('Frequency')\n",
    "\n",
    "# Display the plot\n",
    "plt.show()"
   ]
  },
  {
   "cell_type": "markdown",
   "id": "e2a2800a",
   "metadata": {},
   "source": [
    "## Transformation"
   ]
  },
  {
   "cell_type": "markdown",
   "id": "639cc9b5",
   "metadata": {},
   "source": [
    "### Log-Transformation"
   ]
  },
  {
   "cell_type": "code",
   "execution_count": 22,
   "id": "b77943af",
   "metadata": {},
   "outputs": [
    {
     "data": {
      "image/png": "[encoded data removed]",
      "text/plain": [
       "<Figure size 700x300 with 2 Axes>"
      ]
     },
     "metadata": {},
     "output_type": "display_data"
    }
   ],
   "source": [
    "# Log-Transformation of the variable 'area'\n",
    "df['mileage_log'] = np.log(df['mileage'])\n",
    "\n",
    "# Histogram of the variable 'area' and 'area_log'\n",
    "ax = df[['mileage', 'mileage_log']].hist(bins=25, \n",
    "                                   figsize=(7, 3), \n",
    "                                   color='steelblue')\n",
    "\n",
    "# Set the y-axis range for each subplot and add labels\n",
    "for axis, label in zip(ax.flatten(), ['Mileage', 'Log(Mileage)']):\n",
    "    axis.set_ylim(0, 1200)\n",
    "    axis.set_xlabel(label)\n",
    "    axis.set_ylabel('Frequency')\n",
    "\n",
    "# Display the plot\n",
    "plt.show()"
   ]
  },
  {
   "cell_type": "markdown",
   "id": "447420c6",
   "metadata": {},
   "source": [
    "### SQRT-Transformation"
   ]
  },
  {
   "cell_type": "code",
   "execution_count": 23,
   "id": "47386a41",
   "metadata": {},
   "outputs": [
    {
     "data": {
      "image/png": "[encoded data removed]",
      "text/plain": [
       "<Figure size 700x300 with 2 Axes>"
      ]
     },
     "metadata": {},
     "output_type": "display_data"
    }
   ],
   "source": [
    "# SQRT-Transformation of the variable 'area'\n",
    "df['mileage_sqrt'] = np.sqrt(df['mileage'])\n",
    "\n",
    "# Histogram of the variable 'area' and 'area_sqrt'\n",
    "ax = df[['mileage', 'mileage_sqrt']].hist(bins=25, \n",
    "                                    figsize=(7, 3), \n",
    "                                    color='steelblue')\n",
    "\n",
    "# Set the y-axis range for each subplot and add labels\n",
    "for axis, label in zip(ax.flatten(), ['Mileage', 'SQRT(Mileage)']):\n",
    "    axis.set_ylim(0, 500)\n",
    "    axis.set_xlabel(label)\n",
    "    axis.set_ylabel('Frequency')\n",
    "\n",
    "# Display the plot\n",
    "plt.show()"
   ]
  },
  {
   "cell_type": "markdown",
   "id": "639d6d05",
   "metadata": {},
   "source": [
    "### Box-Cox Transformation"
   ]
  },
  {
   "cell_type": "code",
   "execution_count": 24,
   "id": "ede50358",
   "metadata": {},
   "outputs": [
    {
     "data": {
      "image/png": "[encoded data removed]",
      "text/plain": [
       "<Figure size 700x300 with 2 Axes>"
      ]
     },
     "metadata": {},
     "output_type": "display_data"
    }
   ],
   "source": [
    "# Box-Cox Transformation of the variable 'area'\n",
    "from scipy.stats import boxcox\n",
    "\n",
    "# Apply Box-Cox transformation\n",
    "df['mileage_boxcox'], _ = boxcox(df['mileage'])\n",
    "\n",
    "# Histogram of the variable 'area' and 'area_boxcox'\n",
    "ax = df[['mileage', 'mileage_boxcox']].hist(bins=25, \n",
    "                                      figsize=(7, 3), \n",
    "                                      color='steelblue')\n",
    "\n",
    "# Set the y-axis range for each subplot and add labels\n",
    "for axis, label in zip(ax.flatten(), ['Mileage', 'Box-Cox(Mileage)']):\n",
    "    axis.set_ylim(0, 500)\n",
    "    axis.set_xlabel(label)\n",
    "    axis.set_ylabel('Frequency')\n",
    "\n",
    "# Display the plot\n",
    "plt.show()"
   ]
  },
  {
   "cell_type": "markdown",
   "id": "d766870b",
   "metadata": {},
   "source": [
    "## Combining & organizing data"
   ]
  },
  {
   "cell_type": "markdown",
   "id": "03022398",
   "metadata": {},
   "source": [
    "### Reading car data with geocoded addresses"
   ]
  },
  {
   "cell_type": "code",
   "execution_count": 25,
   "id": "08a25ad6",
   "metadata": {},
   "outputs": [
    {
     "data": {
      "text/html": [
       "<div>\n",
       "<style scoped>\n",
       "    .dataframe tbody tr th:only-of-type {\n",
       "        vertical-align: middle;\n",
       "    }\n",
       "\n",
       "    .dataframe tbody tr th {\n",
       "        vertical-align: top;\n",
       "    }\n",
       "\n",
       "    .dataframe thead th {\n",
       "        text-align: right;\n",
       "    }\n",
       "</style>\n",
       "<table border=\"1\" class=\"dataframe\">\n",
       "  <thead>\n",
       "    <tr style=\"text-align: right;\">\n",
       "      <th></th>\n",
       "      <th>offer_id</th>\n",
       "      <th>lat</th>\n",
       "      <th>lon</th>\n",
       "      <th>bfs_number</th>\n",
       "      <th>bfs_name</th>\n",
       "    </tr>\n",
       "  </thead>\n",
       "  <tbody>\n",
       "    <tr>\n",
       "      <th>0</th>\n",
       "      <td>7324420</td>\n",
       "      <td>47.434376</td>\n",
       "      <td>8.859333</td>\n",
       "      <td>228</td>\n",
       "      <td>Turbenthal</td>\n",
       "    </tr>\n",
       "    <tr>\n",
       "      <th>1</th>\n",
       "      <td>7512768</td>\n",
       "      <td>46.850327</td>\n",
       "      <td>7.200491</td>\n",
       "      <td>2293</td>\n",
       "      <td>Düdingen</td>\n",
       "    </tr>\n",
       "    <tr>\n",
       "      <th>2</th>\n",
       "      <td>7512034</td>\n",
       "      <td>46.386593</td>\n",
       "      <td>6.204862</td>\n",
       "      <td>5716</td>\n",
       "      <td>Eysins</td>\n",
       "    </tr>\n",
       "    <tr>\n",
       "      <th>3</th>\n",
       "      <td>7512728</td>\n",
       "      <td>47.542408</td>\n",
       "      <td>7.873130</td>\n",
       "      <td>4263</td>\n",
       "      <td>Zeiningen</td>\n",
       "    </tr>\n",
       "    <tr>\n",
       "      <th>4</th>\n",
       "      <td>7490242</td>\n",
       "      <td>47.067474</td>\n",
       "      <td>7.302120</td>\n",
       "      <td>306</td>\n",
       "      <td>Lyss</td>\n",
       "    </tr>\n",
       "  </tbody>\n",
       "</table>\n",
       "</div>"
      ],
      "text/plain": [
       "   offer_id        lat       lon  bfs_number    bfs_name\n",
       "0   7324420  47.434376  8.859333         228  Turbenthal\n",
       "1   7512768  46.850327  7.200491        2293    Düdingen\n",
       "2   7512034  46.386593  6.204862        5716      Eysins\n",
       "3   7512728  47.542408  7.873130        4263   Zeiningen\n",
       "4   7490242  47.067474  7.302120         306        Lyss"
      ]
     },
     "execution_count": 25,
     "metadata": {},
     "output_type": "execute_result"
    }
   ],
   "source": [
    "# Meaning of variables\n",
    "# offer_id: unique identifier of the offer on autoscout24.ch\n",
    "# lat: geographical latitude\n",
    "# lon: geographical longitude\n",
    "# bfs_number: official municipality id\n",
    "# bfs_name: official municipality name\n",
    "\n",
    "# Geocoded data (i.e. data with latitude and longitude)\n",
    "df_geo = pd.read_csv('./Data/autoscout24_data_geocoded.csv', \n",
    "                     sep=';', \n",
    "                     encoding='utf-8')\n",
    "\n",
    "# Show data\n",
    "df_geo.head()"
   ]
  },
  {
   "cell_type": "markdown",
   "id": "5698a4db",
   "metadata": {},
   "source": [
    "### Join geo-information to car data using .merge()"
   ]
  },
  {
   "cell_type": "code",
   "execution_count": 26,
   "id": "bcefb50a",
   "metadata": {},
   "outputs": [
    {
     "data": {
      "text/html": [
       "<div>\n",
       "<style scoped>\n",
       "    .dataframe tbody tr th:only-of-type {\n",
       "        vertical-align: middle;\n",
       "    }\n",
       "\n",
       "    .dataframe tbody tr th {\n",
       "        vertical-align: top;\n",
       "    }\n",
       "\n",
       "    .dataframe thead th {\n",
       "        text-align: right;\n",
       "    }\n",
       "</style>\n",
       "<table border=\"1\" class=\"dataframe\">\n",
       "  <thead>\n",
       "    <tr style=\"text-align: right;\">\n",
       "      <th></th>\n",
       "      <th>offer_id</th>\n",
       "      <th>type</th>\n",
       "      <th>price</th>\n",
       "      <th>hp</th>\n",
       "      <th>price_per_hp</th>\n",
       "      <th>mileage</th>\n",
       "      <th>fuel_type</th>\n",
       "      <th>lat</th>\n",
       "      <th>lon</th>\n",
       "      <th>bfs_number</th>\n",
       "      <th>bfs_name</th>\n",
       "    </tr>\n",
       "  </thead>\n",
       "  <tbody>\n",
       "    <tr>\n",
       "      <th>0</th>\n",
       "      <td>7324420</td>\n",
       "      <td>AUDI A5 SPORTBACK 3.0 TDI QUATTRO S-TRONIC (LI...</td>\n",
       "      <td>22500</td>\n",
       "      <td>245</td>\n",
       "      <td>91.84</td>\n",
       "      <td>75000</td>\n",
       "      <td>Diesel</td>\n",
       "      <td>47.434376</td>\n",
       "      <td>8.859333</td>\n",
       "      <td>228</td>\n",
       "      <td>Turbenthal</td>\n",
       "    </tr>\n",
       "    <tr>\n",
       "      <th>1</th>\n",
       "      <td>7512768</td>\n",
       "      <td>MERCEDES-BENZ SLK 200 7G-TRONIC (CABRIOLET)</td>\n",
       "      <td>23749</td>\n",
       "      <td>184</td>\n",
       "      <td>129.07</td>\n",
       "      <td>46655</td>\n",
       "      <td>Benzin</td>\n",
       "      <td>46.850327</td>\n",
       "      <td>7.200491</td>\n",
       "      <td>2293</td>\n",
       "      <td>Düdingen</td>\n",
       "    </tr>\n",
       "    <tr>\n",
       "      <th>2</th>\n",
       "      <td>7512034</td>\n",
       "      <td>MERCEDES-BENZ C 350 AVANTGARDE 4MATIC 7G-TRONI...</td>\n",
       "      <td>18500</td>\n",
       "      <td>306</td>\n",
       "      <td>60.46</td>\n",
       "      <td>138955</td>\n",
       "      <td>Benzin</td>\n",
       "      <td>46.386593</td>\n",
       "      <td>6.204862</td>\n",
       "      <td>5716</td>\n",
       "      <td>Eysins</td>\n",
       "    </tr>\n",
       "    <tr>\n",
       "      <th>3</th>\n",
       "      <td>7512728</td>\n",
       "      <td>MERCEDES-BENZ A 45 AMG 4MATIC SPEEDSHIFT 7G-DC...</td>\n",
       "      <td>36000</td>\n",
       "      <td>360</td>\n",
       "      <td>100.0</td>\n",
       "      <td>43000</td>\n",
       "      <td>Benzin</td>\n",
       "      <td>47.542408</td>\n",
       "      <td>7.873130</td>\n",
       "      <td>4263</td>\n",
       "      <td>Zeiningen</td>\n",
       "    </tr>\n",
       "    <tr>\n",
       "      <th>4</th>\n",
       "      <td>7490242</td>\n",
       "      <td>AUDI A5 SPORTBACK 2.0 TFSI SPORT QUATTRO S-TRO...</td>\n",
       "      <td>48500</td>\n",
       "      <td>252</td>\n",
       "      <td>192.46</td>\n",
       "      <td>43300</td>\n",
       "      <td>Benzin</td>\n",
       "      <td>47.067474</td>\n",
       "      <td>7.302120</td>\n",
       "      <td>306</td>\n",
       "      <td>Lyss</td>\n",
       "    </tr>\n",
       "  </tbody>\n",
       "</table>\n",
       "</div>"
      ],
      "text/plain": [
       "   offer_id                                               type  price   hp  \\\n",
       "0   7324420  AUDI A5 SPORTBACK 3.0 TDI QUATTRO S-TRONIC (LI...  22500  245   \n",
       "1   7512768        MERCEDES-BENZ SLK 200 7G-TRONIC (CABRIOLET)  23749  184   \n",
       "2   7512034  MERCEDES-BENZ C 350 AVANTGARDE 4MATIC 7G-TRONI...  18500  306   \n",
       "3   7512728  MERCEDES-BENZ A 45 AMG 4MATIC SPEEDSHIFT 7G-DC...  36000  360   \n",
       "4   7490242  AUDI A5 SPORTBACK 2.0 TFSI SPORT QUATTRO S-TRO...  48500  252   \n",
       "\n",
       "   price_per_hp  mileage fuel_type        lat       lon  bfs_number  \\\n",
       "0         91.84    75000    Diesel  47.434376  8.859333         228   \n",
       "1        129.07    46655    Benzin  46.850327  7.200491        2293   \n",
       "2         60.46   138955    Benzin  46.386593  6.204862        5716   \n",
       "3         100.0    43000    Benzin  47.542408  7.873130        4263   \n",
       "4        192.46    43300    Benzin  47.067474  7.302120         306   \n",
       "\n",
       "     bfs_name  \n",
       "0  Turbenthal  \n",
       "1    Düdingen  \n",
       "2      Eysins  \n",
       "3   Zeiningen  \n",
       "4        Lyss  "
      ]
     },
     "execution_count": 26,
     "metadata": {},
     "output_type": "execute_result"
    }
   ],
   "source": [
    "df2 = df.merge(df_geo[['offer_id', \n",
    "                       'lat', \n",
    "                       'lon', \n",
    "                       'bfs_number', \n",
    "                       'bfs_name']], \n",
    "               on=\"offer_id\",)\n",
    "\n",
    "# Show data\n",
    "df2[['offer_id',\n",
    "     'type',\t\n",
    "     'price',\n",
    "     'hp',\n",
    "     'price_per_hp',\n",
    "     'mileage',\t\n",
    "     'fuel_type',\t\n",
    "     'lat', \n",
    "     'lon', \n",
    "     'bfs_number', \n",
    "     'bfs_name']].head()"
   ]
  },
  {
   "cell_type": "markdown",
   "id": "ec21f353",
   "metadata": {},
   "source": [
    "### Reading municipality-level data from an .xlsx - file"
   ]
  },
  {
   "cell_type": "code",
   "execution_count": 27,
   "id": "27a6e0bc",
   "metadata": {},
   "outputs": [
    {
     "data": {
      "text/html": [
       "<div>\n",
       "<style scoped>\n",
       "    .dataframe tbody tr th:only-of-type {\n",
       "        vertical-align: middle;\n",
       "    }\n",
       "\n",
       "    .dataframe tbody tr th {\n",
       "        vertical-align: top;\n",
       "    }\n",
       "\n",
       "    .dataframe thead th {\n",
       "        text-align: right;\n",
       "    }\n",
       "</style>\n",
       "<table border=\"1\" class=\"dataframe\">\n",
       "  <thead>\n",
       "    <tr style=\"text-align: right;\">\n",
       "      <th></th>\n",
       "      <th>bfs_number</th>\n",
       "      <th>bfs_name</th>\n",
       "      <th>pop</th>\n",
       "      <th>pop_dens</th>\n",
       "      <th>frg_pct</th>\n",
       "      <th>emp</th>\n",
       "    </tr>\n",
       "  </thead>\n",
       "  <tbody>\n",
       "    <tr>\n",
       "      <th>0</th>\n",
       "      <td>1</td>\n",
       "      <td>Aeugst am Albis</td>\n",
       "      <td>1981</td>\n",
       "      <td>250.442478</td>\n",
       "      <td>14.184755</td>\n",
       "      <td>442.0</td>\n",
       "    </tr>\n",
       "    <tr>\n",
       "      <th>1</th>\n",
       "      <td>2</td>\n",
       "      <td>Affoltern am Albis</td>\n",
       "      <td>12303</td>\n",
       "      <td>1161.756374</td>\n",
       "      <td>28.700317</td>\n",
       "      <td>6920.0</td>\n",
       "    </tr>\n",
       "    <tr>\n",
       "      <th>2</th>\n",
       "      <td>3</td>\n",
       "      <td>Bonstetten</td>\n",
       "      <td>5572</td>\n",
       "      <td>749.932705</td>\n",
       "      <td>16.564968</td>\n",
       "      <td>1014.0</td>\n",
       "    </tr>\n",
       "    <tr>\n",
       "      <th>3</th>\n",
       "      <td>4</td>\n",
       "      <td>Hausen am Albis</td>\n",
       "      <td>3751</td>\n",
       "      <td>275.808824</td>\n",
       "      <td>16.022394</td>\n",
       "      <td>1021.0</td>\n",
       "    </tr>\n",
       "    <tr>\n",
       "      <th>4</th>\n",
       "      <td>5</td>\n",
       "      <td>Hedingen</td>\n",
       "      <td>3778</td>\n",
       "      <td>578.560490</td>\n",
       "      <td>16.410799</td>\n",
       "      <td>1478.0</td>\n",
       "    </tr>\n",
       "  </tbody>\n",
       "</table>\n",
       "</div>"
      ],
      "text/plain": [
       "   bfs_number            bfs_name    pop     pop_dens    frg_pct     emp\n",
       "0           1     Aeugst am Albis   1981   250.442478  14.184755   442.0\n",
       "1           2  Affoltern am Albis  12303  1161.756374  28.700317  6920.0\n",
       "2           3          Bonstetten   5572   749.932705  16.564968  1014.0\n",
       "3           4     Hausen am Albis   3751   275.808824  16.022394  1021.0\n",
       "4           5            Hedingen   3778   578.560490  16.410799  1478.0"
      ]
     },
     "execution_count": 27,
     "metadata": {},
     "output_type": "execute_result"
    }
   ],
   "source": [
    "# Meaning of variables:\n",
    "# bfs_number: municipality id\n",
    "# bfs_name: municipality name\n",
    "# pop: number of residents\n",
    "# pop_dens: population density per km2\n",
    "# frg_pct: percentage foreigners\n",
    "# emp: number of employees\n",
    "\n",
    "df_municip = pd.read_excel('./Data/municipality_data.xlsx', \n",
    "                           sheet_name='data_for_import')\n",
    "df_municip.head(5)"
   ]
  },
  {
   "cell_type": "markdown",
   "id": "c8600d9a",
   "metadata": {},
   "source": [
    "### Join municipality-level data to the car data data using .merge()"
   ]
  },
  {
   "cell_type": "code",
   "execution_count": 28,
   "id": "c9587146",
   "metadata": {},
   "outputs": [
    {
     "data": {
      "text/html": [
       "<div>\n",
       "<style scoped>\n",
       "    .dataframe tbody tr th:only-of-type {\n",
       "        vertical-align: middle;\n",
       "    }\n",
       "\n",
       "    .dataframe tbody tr th {\n",
       "        vertical-align: top;\n",
       "    }\n",
       "\n",
       "    .dataframe thead th {\n",
       "        text-align: right;\n",
       "    }\n",
       "</style>\n",
       "<table border=\"1\" class=\"dataframe\">\n",
       "  <thead>\n",
       "    <tr style=\"text-align: right;\">\n",
       "      <th></th>\n",
       "      <th>offer_id</th>\n",
       "      <th>type</th>\n",
       "      <th>price</th>\n",
       "      <th>mileage</th>\n",
       "      <th>hp</th>\n",
       "      <th>price_per_hp</th>\n",
       "      <th>fuel_type</th>\n",
       "      <th>lat</th>\n",
       "      <th>lon</th>\n",
       "      <th>bfs_number</th>\n",
       "      <th>bfs_name</th>\n",
       "      <th>pop</th>\n",
       "      <th>pop_dens</th>\n",
       "    </tr>\n",
       "  </thead>\n",
       "  <tbody>\n",
       "    <tr>\n",
       "      <th>0</th>\n",
       "      <td>7324420</td>\n",
       "      <td>AUDI A5 SPORTBACK 3.0 TDI QUATTRO S-TRONIC (LI...</td>\n",
       "      <td>22500</td>\n",
       "      <td>75000</td>\n",
       "      <td>245</td>\n",
       "      <td>91.84</td>\n",
       "      <td>Diesel</td>\n",
       "      <td>47.434376</td>\n",
       "      <td>8.859333</td>\n",
       "      <td>228</td>\n",
       "      <td>Turbenthal</td>\n",
       "      <td>4883</td>\n",
       "      <td>193.616178</td>\n",
       "    </tr>\n",
       "    <tr>\n",
       "      <th>1</th>\n",
       "      <td>7512768</td>\n",
       "      <td>MERCEDES-BENZ SLK 200 7G-TRONIC (CABRIOLET)</td>\n",
       "      <td>23749</td>\n",
       "      <td>46655</td>\n",
       "      <td>184</td>\n",
       "      <td>129.07</td>\n",
       "      <td>Benzin</td>\n",
       "      <td>46.850327</td>\n",
       "      <td>7.200491</td>\n",
       "      <td>2293</td>\n",
       "      <td>Düdingen</td>\n",
       "      <td>8181</td>\n",
       "      <td>265.962289</td>\n",
       "    </tr>\n",
       "    <tr>\n",
       "      <th>2</th>\n",
       "      <td>7512034</td>\n",
       "      <td>MERCEDES-BENZ C 350 AVANTGARDE 4MATIC 7G-TRONI...</td>\n",
       "      <td>18500</td>\n",
       "      <td>138955</td>\n",
       "      <td>306</td>\n",
       "      <td>60.46</td>\n",
       "      <td>Benzin</td>\n",
       "      <td>46.386593</td>\n",
       "      <td>6.204862</td>\n",
       "      <td>5716</td>\n",
       "      <td>Eysins</td>\n",
       "      <td>1735</td>\n",
       "      <td>728.991597</td>\n",
       "    </tr>\n",
       "    <tr>\n",
       "      <th>3</th>\n",
       "      <td>7512728</td>\n",
       "      <td>MERCEDES-BENZ A 45 AMG 4MATIC SPEEDSHIFT 7G-DC...</td>\n",
       "      <td>36000</td>\n",
       "      <td>43000</td>\n",
       "      <td>360</td>\n",
       "      <td>100.0</td>\n",
       "      <td>Benzin</td>\n",
       "      <td>47.542408</td>\n",
       "      <td>7.873130</td>\n",
       "      <td>4263</td>\n",
       "      <td>Zeiningen</td>\n",
       "      <td>2381</td>\n",
       "      <td>209.410730</td>\n",
       "    </tr>\n",
       "    <tr>\n",
       "      <th>4</th>\n",
       "      <td>7490242</td>\n",
       "      <td>AUDI A5 SPORTBACK 2.0 TFSI SPORT QUATTRO S-TRO...</td>\n",
       "      <td>48500</td>\n",
       "      <td>43300</td>\n",
       "      <td>252</td>\n",
       "      <td>192.46</td>\n",
       "      <td>Benzin</td>\n",
       "      <td>47.067474</td>\n",
       "      <td>7.302120</td>\n",
       "      <td>306</td>\n",
       "      <td>Lyss</td>\n",
       "      <td>15525</td>\n",
       "      <td>1046.864464</td>\n",
       "    </tr>\n",
       "  </tbody>\n",
       "</table>\n",
       "</div>"
      ],
      "text/plain": [
       "   offer_id                                               type  price  \\\n",
       "0   7324420  AUDI A5 SPORTBACK 3.0 TDI QUATTRO S-TRONIC (LI...  22500   \n",
       "1   7512768        MERCEDES-BENZ SLK 200 7G-TRONIC (CABRIOLET)  23749   \n",
       "2   7512034  MERCEDES-BENZ C 350 AVANTGARDE 4MATIC 7G-TRONI...  18500   \n",
       "3   7512728  MERCEDES-BENZ A 45 AMG 4MATIC SPEEDSHIFT 7G-DC...  36000   \n",
       "4   7490242  AUDI A5 SPORTBACK 2.0 TFSI SPORT QUATTRO S-TRO...  48500   \n",
       "\n",
       "   mileage   hp  price_per_hp fuel_type        lat       lon  bfs_number  \\\n",
       "0    75000  245         91.84    Diesel  47.434376  8.859333         228   \n",
       "1    46655  184        129.07    Benzin  46.850327  7.200491        2293   \n",
       "2   138955  306         60.46    Benzin  46.386593  6.204862        5716   \n",
       "3    43000  360         100.0    Benzin  47.542408  7.873130        4263   \n",
       "4    43300  252        192.46    Benzin  47.067474  7.302120         306   \n",
       "\n",
       "     bfs_name    pop     pop_dens  \n",
       "0  Turbenthal   4883   193.616178  \n",
       "1    Düdingen   8181   265.962289  \n",
       "2      Eysins   1735   728.991597  \n",
       "3   Zeiningen   2381   209.410730  \n",
       "4        Lyss  15525  1046.864464  "
      ]
     },
     "execution_count": 28,
     "metadata": {},
     "output_type": "execute_result"
    }
   ],
   "source": [
    "# Merge needs a key which must be identical in both data sets (here the key is 'bfs_number')\n",
    "df3 = df2.merge(df_municip[['bfs_number', \n",
    "                            'pop', \n",
    "                            'pop_dens', \n",
    "                            'frg_pct', \n",
    "                            'emp']], \n",
    "                on=\"bfs_number\")\n",
    "\n",
    "# Show data\n",
    "df3[['offer_id',\n",
    "     'type',\n",
    "     'price',\n",
    "     'mileage',\n",
    "     'hp',\n",
    "     'price_per_hp',\n",
    "     'fuel_type',\n",
    "     'lat', \n",
    "     'lon', \n",
    "     'bfs_number', \n",
    "     'bfs_name',\n",
    "     'pop',\t\n",
    "     'pop_dens']].head()"
   ]
  },
  {
   "cell_type": "markdown",
   "id": "791c9563",
   "metadata": {},
   "source": [
    "### Sorting data"
   ]
  },
  {
   "cell_type": "code",
   "execution_count": 29,
   "id": "df71d738",
   "metadata": {},
   "outputs": [
    {
     "data": {
      "text/html": [
       "<div>\n",
       "<style scoped>\n",
       "    .dataframe tbody tr th:only-of-type {\n",
       "        vertical-align: middle;\n",
       "    }\n",
       "\n",
       "    .dataframe tbody tr th {\n",
       "        vertical-align: top;\n",
       "    }\n",
       "\n",
       "    .dataframe thead th {\n",
       "        text-align: right;\n",
       "    }\n",
       "</style>\n",
       "<table border=\"1\" class=\"dataframe\">\n",
       "  <thead>\n",
       "    <tr style=\"text-align: right;\">\n",
       "      <th></th>\n",
       "      <th>offer_id</th>\n",
       "      <th>type</th>\n",
       "      <th>price</th>\n",
       "      <th>mileage</th>\n",
       "      <th>hp</th>\n",
       "      <th>price_per_hp</th>\n",
       "      <th>fuel_type</th>\n",
       "      <th>lat</th>\n",
       "      <th>lon</th>\n",
       "      <th>bfs_number</th>\n",
       "      <th>bfs_name</th>\n",
       "      <th>pop</th>\n",
       "      <th>pop_dens</th>\n",
       "    </tr>\n",
       "  </thead>\n",
       "  <tbody>\n",
       "    <tr>\n",
       "      <th>1434</th>\n",
       "      <td>6395032</td>\n",
       "      <td>PORSCHE 911 GT2 RS (COUPÉ)</td>\n",
       "      <td>428000</td>\n",
       "      <td>8900</td>\n",
       "      <td>620</td>\n",
       "      <td>690.32</td>\n",
       "      <td>Benzin</td>\n",
       "      <td>46.618042</td>\n",
       "      <td>7.024349</td>\n",
       "      <td>2160</td>\n",
       "      <td>Vuadens</td>\n",
       "      <td>2435</td>\n",
       "      <td>233.014354</td>\n",
       "    </tr>\n",
       "    <tr>\n",
       "      <th>274</th>\n",
       "      <td>6978696</td>\n",
       "      <td>LAMBORGHINI AVENTADOR S LP740-4 ROADSTER E-GEA...</td>\n",
       "      <td>384900</td>\n",
       "      <td>4000</td>\n",
       "      <td>741</td>\n",
       "      <td>519.43</td>\n",
       "      <td>Benzin</td>\n",
       "      <td>47.354149</td>\n",
       "      <td>8.560637</td>\n",
       "      <td>261</td>\n",
       "      <td>Zürich</td>\n",
       "      <td>420217</td>\n",
       "      <td>4778.994655</td>\n",
       "    </tr>\n",
       "    <tr>\n",
       "      <th>2400</th>\n",
       "      <td>7448261</td>\n",
       "      <td>PORSCHE 911 SPEEDSTER MANUAL GEARBOX CHALK WHI...</td>\n",
       "      <td>379000</td>\n",
       "      <td>14</td>\n",
       "      <td>510</td>\n",
       "      <td>743.14</td>\n",
       "      <td>Benzin</td>\n",
       "      <td>46.533829</td>\n",
       "      <td>6.611891</td>\n",
       "      <td>5586</td>\n",
       "      <td>Lausanne</td>\n",
       "      <td>139408</td>\n",
       "      <td>3368.970517</td>\n",
       "    </tr>\n",
       "    <tr>\n",
       "      <th>3424</th>\n",
       "      <td>6768872</td>\n",
       "      <td>MCLAREN 675LT COUPÉ 3.8 V8 SSG (COUPÉ)</td>\n",
       "      <td>280000</td>\n",
       "      <td>11500</td>\n",
       "      <td>675</td>\n",
       "      <td>414.81</td>\n",
       "      <td>Benzin</td>\n",
       "      <td>46.220200</td>\n",
       "      <td>6.145626</td>\n",
       "      <td>6621</td>\n",
       "      <td>Genève</td>\n",
       "      <td>203951</td>\n",
       "      <td>12810.992462</td>\n",
       "    </tr>\n",
       "    <tr>\n",
       "      <th>1612</th>\n",
       "      <td>5887777</td>\n",
       "      <td>MERCEDES-BENZ 220 SE (CABRIOLET)</td>\n",
       "      <td>255000</td>\n",
       "      <td>1200</td>\n",
       "      <td>120</td>\n",
       "      <td>2125.0</td>\n",
       "      <td>Benzin</td>\n",
       "      <td>46.992401</td>\n",
       "      <td>8.310424</td>\n",
       "      <td>1507</td>\n",
       "      <td>Hergiswil (NW)</td>\n",
       "      <td>5776</td>\n",
       "      <td>403.916084</td>\n",
       "    </tr>\n",
       "  </tbody>\n",
       "</table>\n",
       "</div>"
      ],
      "text/plain": [
       "      offer_id                                               type   price  \\\n",
       "1434   6395032                         PORSCHE 911 GT2 RS (COUPÉ)  428000   \n",
       "274    6978696  LAMBORGHINI AVENTADOR S LP740-4 ROADSTER E-GEA...  384900   \n",
       "2400   7448261  PORSCHE 911 SPEEDSTER MANUAL GEARBOX CHALK WHI...  379000   \n",
       "3424   6768872             MCLAREN 675LT COUPÉ 3.8 V8 SSG (COUPÉ)  280000   \n",
       "1612   5887777                   MERCEDES-BENZ 220 SE (CABRIOLET)  255000   \n",
       "\n",
       "      mileage   hp  price_per_hp fuel_type        lat       lon  bfs_number  \\\n",
       "1434     8900  620        690.32    Benzin  46.618042  7.024349        2160   \n",
       "274      4000  741        519.43    Benzin  47.354149  8.560637         261   \n",
       "2400       14  510        743.14    Benzin  46.533829  6.611891        5586   \n",
       "3424    11500  675        414.81    Benzin  46.220200  6.145626        6621   \n",
       "1612     1200  120        2125.0    Benzin  46.992401  8.310424        1507   \n",
       "\n",
       "            bfs_name     pop      pop_dens  \n",
       "1434         Vuadens    2435    233.014354  \n",
       "274           Zürich  420217   4778.994655  \n",
       "2400        Lausanne  139408   3368.970517  \n",
       "3424          Genève  203951  12810.992462  \n",
       "1612  Hergiswil (NW)    5776    403.916084  "
      ]
     },
     "execution_count": 29,
     "metadata": {},
     "output_type": "execute_result"
    }
   ],
   "source": [
    "# Sorting data by 'price' and 'area' with highest price above (ascending=False)\n",
    "df3 = df3.sort_values(by=['price', 'mileage'], \n",
    "                ascending=False)\n",
    "\n",
    "df3[['offer_id',\n",
    "     'type',\n",
    "     'price',\n",
    "     'mileage',\n",
    "     'hp',\n",
    "     'price_per_hp',\n",
    "     'fuel_type',\n",
    "     'lat', \n",
    "     'lon', \n",
    "     'bfs_number', \n",
    "     'bfs_name',\n",
    "     'pop',\t\n",
    "     'pop_dens']].head()\n"
   ]
  },
  {
   "cell_type": "markdown",
   "id": "1aa577f9",
   "metadata": {},
   "source": [
    "### Reshaping data"
   ]
  },
  {
   "cell_type": "markdown",
   "id": "2f70bf89",
   "metadata": {},
   "source": [
    "#### Reshaping data using .stack() and .unstack()"
   ]
  },
  {
   "cell_type": "code",
   "execution_count": 30,
   "id": "70d142e6",
   "metadata": {},
   "outputs": [
    {
     "name": "stdout",
     "output_type": "stream",
     "text": [
      "Original shape\n",
      "            bfs_name  mileage   price   hp\n",
      "1434         Vuadens     8900  428000  620\n",
      "274           Zürich     4000  384900  741\n",
      "2400        Lausanne       14  379000  510\n",
      "3424          Genève    11500  280000  675\n",
      "1612  Hergiswil (NW)     1200  255000  120 \n",
      "\n",
      "Stacked\n",
      "1434  bfs_name           Vuadens\n",
      "      mileage               8900\n",
      "      price               428000\n",
      "      hp                     620\n",
      "274   bfs_name            Zürich\n",
      "      mileage               4000\n",
      "      price               384900\n",
      "      hp                     741\n",
      "2400  bfs_name          Lausanne\n",
      "      mileage                 14\n",
      "      price               379000\n",
      "      hp                     510\n",
      "3424  bfs_name            Genève\n",
      "      mileage              11500\n",
      "      price               280000\n",
      "      hp                     675\n",
      "1612  bfs_name    Hergiswil (NW)\n",
      "      mileage               1200\n",
      "      price               255000\n",
      "      hp                     120\n",
      "dtype: object \n",
      "\n",
      "Unstacked (= back to original shape)\n",
      "            bfs_name mileage   price   hp\n",
      "1434         Vuadens    8900  428000  620\n",
      "274           Zürich    4000  384900  741\n",
      "2400        Lausanne      14  379000  510\n",
      "3424          Genève   11500  280000  675\n",
      "1612  Hergiswil (NW)    1200  255000  120\n"
     ]
    }
   ],
   "source": [
    "df_sub = df3[['bfs_name', 'mileage', 'price', 'hp']][:5]\n",
    "print('Original shape')\n",
    "print(df_sub, '\\n')\n",
    "\n",
    "df_sub_stacked = df_sub.stack()\n",
    "print('Stacked')\n",
    "print(df_sub_stacked, '\\n')\n",
    "\n",
    "# Using unstack\n",
    "print('Unstacked (= back to original shape)')\n",
    "print(df_sub_stacked.unstack())"
   ]
  },
  {
   "cell_type": "markdown",
   "id": "1db19bde",
   "metadata": {},
   "source": [
    "#### Reshaping data using .melt()"
   ]
  },
  {
   "cell_type": "code",
   "execution_count": 31,
   "id": "02e1d544",
   "metadata": {},
   "outputs": [
    {
     "name": "stdout",
     "output_type": "stream",
     "text": [
      "Original shape\n",
      "      mileage   price   hp\n",
      "1434     8900  428000  620\n",
      "274      4000  384900  741\n",
      "2400       14  379000  510\n",
      "3424    11500  280000  675\n",
      "1612     1200  255000  120 \n",
      "\n",
      "Reshaped using .melt()\n",
      "      mileage variable  value\n",
      "0       75000    price  22500\n",
      "1       46655    price  23749\n",
      "2      138955    price  18500\n",
      "3       43000    price  36000\n",
      "4       43300    price  48500\n",
      "...       ...      ...    ...\n",
      "7937    78000       hp    400\n",
      "7938   315000       hp    232\n",
      "7939    85000       hp    525\n",
      "7940   188920       hp    193\n",
      "7941   134000       hp    193\n",
      "\n",
      "[7942 rows x 3 columns]\n"
     ]
    }
   ],
   "source": [
    "df_sub = df3[['mileage', 'price', 'hp']][:5]\n",
    "print('Original shape')\n",
    "print(df_sub, '\\n')\n",
    "\n",
    "print('Reshaped using .melt()')\n",
    "print(pd.melt(df, id_vars=['mileage'], value_vars=['price', 'hp']))"
   ]
  },
  {
   "cell_type": "markdown",
   "id": "c2991e66",
   "metadata": {},
   "source": [
    "### Pivoting data using .pivot_table()"
   ]
  },
  {
   "cell_type": "code",
   "execution_count": 32,
   "id": "f1fed1c4",
   "metadata": {},
   "outputs": [
    {
     "data": {
      "text/html": [
       "<div>\n",
       "<style scoped>\n",
       "    .dataframe tbody tr th:only-of-type {\n",
       "        vertical-align: middle;\n",
       "    }\n",
       "\n",
       "    .dataframe tbody tr th {\n",
       "        vertical-align: top;\n",
       "    }\n",
       "\n",
       "    .dataframe thead th {\n",
       "        text-align: right;\n",
       "    }\n",
       "</style>\n",
       "<table border=\"1\" class=\"dataframe\">\n",
       "  <thead>\n",
       "    <tr style=\"text-align: right;\">\n",
       "      <th></th>\n",
       "      <th>hp</th>\n",
       "      <th>mileage</th>\n",
       "      <th>price</th>\n",
       "      <th>price_per_hp</th>\n",
       "    </tr>\n",
       "    <tr>\n",
       "      <th>fuel_type</th>\n",
       "      <th></th>\n",
       "      <th></th>\n",
       "      <th></th>\n",
       "      <th></th>\n",
       "    </tr>\n",
       "  </thead>\n",
       "  <tbody>\n",
       "    <tr>\n",
       "      <th>Automat</th>\n",
       "      <td>304.00</td>\n",
       "      <td>76000.00</td>\n",
       "      <td>49000.00</td>\n",
       "      <td>161.18</td>\n",
       "    </tr>\n",
       "    <tr>\n",
       "      <th>Automatik-Getriebe</th>\n",
       "      <td>258.00</td>\n",
       "      <td>37800.00</td>\n",
       "      <td>79999.00</td>\n",
       "      <td>310.07</td>\n",
       "    </tr>\n",
       "    <tr>\n",
       "      <th>Benzin</th>\n",
       "      <td>245.38</td>\n",
       "      <td>89881.89</td>\n",
       "      <td>27344.08</td>\n",
       "      <td>112.76</td>\n",
       "    </tr>\n",
       "    <tr>\n",
       "      <th>Diesel</th>\n",
       "      <td>198.24</td>\n",
       "      <td>103766.03</td>\n",
       "      <td>24888.95</td>\n",
       "      <td>123.83</td>\n",
       "    </tr>\n",
       "    <tr>\n",
       "      <th>Elektro</th>\n",
       "      <td>457.79</td>\n",
       "      <td>59694.98</td>\n",
       "      <td>53093.18</td>\n",
       "      <td>138.80</td>\n",
       "    </tr>\n",
       "    <tr>\n",
       "      <th>Erdgas (CNG) / Benzin</th>\n",
       "      <td>85.00</td>\n",
       "      <td>50561.00</td>\n",
       "      <td>5900.00</td>\n",
       "      <td>69.41</td>\n",
       "    </tr>\n",
       "    <tr>\n",
       "      <th>Flüssiggas (LPG) / Benzin</th>\n",
       "      <td>97.00</td>\n",
       "      <td>83000.00</td>\n",
       "      <td>4800.00</td>\n",
       "      <td>49.48</td>\n",
       "    </tr>\n",
       "    <tr>\n",
       "      <th>Hybrid Benzin/Elektro</th>\n",
       "      <td>339.00</td>\n",
       "      <td>128356.00</td>\n",
       "      <td>19900.00</td>\n",
       "      <td>58.70</td>\n",
       "    </tr>\n",
       "    <tr>\n",
       "      <th>Hybrid Diesel/Elektro</th>\n",
       "      <td>261.00</td>\n",
       "      <td>263209.00</td>\n",
       "      <td>34000.00</td>\n",
       "      <td>130.27</td>\n",
       "    </tr>\n",
       "    <tr>\n",
       "      <th>Mild-Hybrid Benzin/Elektro</th>\n",
       "      <td>269.67</td>\n",
       "      <td>19536.67</td>\n",
       "      <td>60130.00</td>\n",
       "      <td>229.64</td>\n",
       "    </tr>\n",
       "    <tr>\n",
       "      <th>Mild-Hybrid Diesel/Elektro</th>\n",
       "      <td>340.00</td>\n",
       "      <td>18295.00</td>\n",
       "      <td>82250.00</td>\n",
       "      <td>241.02</td>\n",
       "    </tr>\n",
       "    <tr>\n",
       "      <th>Plug-in-Hybrid Benzin/Elektro</th>\n",
       "      <td>279.83</td>\n",
       "      <td>44210.87</td>\n",
       "      <td>40426.09</td>\n",
       "      <td>145.76</td>\n",
       "    </tr>\n",
       "    <tr>\n",
       "      <th>Plug-in-Hybrid Diesel/Elektro</th>\n",
       "      <td>286.00</td>\n",
       "      <td>68871.75</td>\n",
       "      <td>28622.50</td>\n",
       "      <td>100.05</td>\n",
       "    </tr>\n",
       "    <tr>\n",
       "      <th>Schaltgetriebe</th>\n",
       "      <td>242.67</td>\n",
       "      <td>107500.33</td>\n",
       "      <td>28383.33</td>\n",
       "      <td>93.96</td>\n",
       "    </tr>\n",
       "    <tr>\n",
       "      <th>Schaltgetriebe manuell</th>\n",
       "      <td>125.00</td>\n",
       "      <td>65000.00</td>\n",
       "      <td>31900.00</td>\n",
       "      <td>255.20</td>\n",
       "    </tr>\n",
       "    <tr>\n",
       "      <th>Voll-Hybrid Benzin/Elektro</th>\n",
       "      <td>168.89</td>\n",
       "      <td>64620.74</td>\n",
       "      <td>23784.81</td>\n",
       "      <td>140.98</td>\n",
       "    </tr>\n",
       "    <tr>\n",
       "      <th>Voll-Hybrid Diesel/Elektro</th>\n",
       "      <td>200.20</td>\n",
       "      <td>80300.00</td>\n",
       "      <td>17837.40</td>\n",
       "      <td>88.63</td>\n",
       "    </tr>\n",
       "  </tbody>\n",
       "</table>\n",
       "</div>"
      ],
      "text/plain": [
       "                                   hp    mileage     price price_per_hp\n",
       "fuel_type                                                              \n",
       "Automat                        304.00   76000.00  49000.00       161.18\n",
       "Automatik-Getriebe             258.00   37800.00  79999.00       310.07\n",
       "Benzin                         245.38   89881.89  27344.08       112.76\n",
       "Diesel                         198.24  103766.03  24888.95       123.83\n",
       "Elektro                        457.79   59694.98  53093.18       138.80\n",
       "Erdgas (CNG) / Benzin           85.00   50561.00   5900.00        69.41\n",
       "Flüssiggas (LPG) / Benzin       97.00   83000.00   4800.00        49.48\n",
       "Hybrid Benzin/Elektro          339.00  128356.00  19900.00        58.70\n",
       "Hybrid Diesel/Elektro          261.00  263209.00  34000.00       130.27\n",
       "Mild-Hybrid Benzin/Elektro     269.67   19536.67  60130.00       229.64\n",
       "Mild-Hybrid Diesel/Elektro     340.00   18295.00  82250.00       241.02\n",
       "Plug-in-Hybrid Benzin/Elektro  279.83   44210.87  40426.09       145.76\n",
       "Plug-in-Hybrid Diesel/Elektro  286.00   68871.75  28622.50       100.05\n",
       "Schaltgetriebe                 242.67  107500.33  28383.33        93.96\n",
       "Schaltgetriebe manuell         125.00   65000.00  31900.00       255.20\n",
       "Voll-Hybrid Benzin/Elektro     168.89   64620.74  23784.81       140.98\n",
       "Voll-Hybrid Diesel/Elektro     200.20   80300.00  17837.40        88.63"
      ]
     },
     "execution_count": 32,
     "metadata": {},
     "output_type": "execute_result"
    }
   ],
   "source": [
    "pivot_table = pd.pivot_table(df3[['mileage', 'price', 'price_per_hp', 'hp', 'fuel_type']],\n",
    "                             index=['fuel_type'],\n",
    "                             values={'price': np.mean, \n",
    "                                     'price_per_hp': np.mean, \n",
    "                                     'hp': np.mean,\n",
    "                                     'mileage': np.mean}).round(2)\n",
    "\n",
    "# Format the values to 2 decimal places with trailing zeros\n",
    "pivot_table = pivot_table.applymap(lambda x: f\"{x:.2f}\" if isinstance(x, (int, float)) else x)\n",
    "\n",
    "# Display the pivot table\n",
    "pivot_table"
   ]
  },
  {
   "cell_type": "markdown",
   "id": "9cec2fdf",
   "metadata": {},
   "source": [
    "### Jupyter notebook --footer info-- (please always provide this at the end of each notebook)"
   ]
  },
  {
   "cell_type": "code",
   "execution_count": 33,
   "id": "00499ca8",
   "metadata": {},
   "outputs": [
    {
     "name": "stdout",
     "output_type": "stream",
     "text": [
      "-----------------------------------\n",
      "POSIX\n",
      "Linux | 6.5.0-1025-azure\n",
      "Datetime: 2024-11-10 20:30:25\n",
      "Python Version: 3.11.10\n",
      "-----------------------------------\n"
     ]
    }
   ],
   "source": [
    "import os\n",
    "import platform\n",
    "import socket\n",
    "from platform import python_version\n",
    "from datetime import datetime\n",
    "\n",
    "print('-----------------------------------')\n",
    "print(os.name.upper())\n",
    "print(platform.system(), '|', platform.release())\n",
    "print('Datetime:', datetime.now().strftime(\"%Y-%m-%d %H:%M:%S\"))\n",
    "print('Python Version:', python_version())\n",
    "print('-----------------------------------')"
   ]
  }
 ],
 "metadata": {
  "kernelspec": {
   "display_name": "Python 3",
   "language": "python",
   "name": "python3"
  },
  "language_info": {
   "codemirror_mode": {
    "name": "ipython",
    "version": 3
   },
   "file_extension": ".py",
   "mimetype": "text/x-python",
   "name": "python",
   "nbconvert_exporter": "python",
   "pygments_lexer": "ipython3",
   "version": "3.11.10"
  }
 },
 "nbformat": 4,
 "nbformat_minor": 5
}
