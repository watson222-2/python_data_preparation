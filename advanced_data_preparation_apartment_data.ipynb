{
 "cells": [
  {
   "cell_type": "markdown",
   "id": "3272230e",
   "metadata": {},
   "source": [
    "# Advanced Data Preparation with Python (Apartment Data)"
   ]
  },
  {
   "cell_type": "markdown",
   "id": "c0e6a164",
   "metadata": {},
   "source": [
    "## Libraries and settings"
   ]
  },
  {
   "cell_type": "code",
   "execution_count": 1,
   "id": "e3b51c23",
   "metadata": {},
   "outputs": [
    {
     "name": "stdout",
     "output_type": "stream",
     "text": [
      "/workspaces/python_data_preparation\n"
     ]
    }
   ],
   "source": [
    "# Libraries\n",
    "import os\n",
    "import re\n",
    "import time\n",
    "import fnmatch\n",
    "import numpy as np\n",
    "import pandas as pd\n",
    "import seaborn as sns\n",
    "from datetime import datetime\n",
    "import matplotlib.pyplot as plt\n",
    "\n",
    "# Ignore warnings\n",
    "import warnings\n",
    "warnings.filterwarnings(\"ignore\")\n",
    "\n",
    "# Get current working directory\n",
    "print(os.getcwd())"
   ]
  },
  {
   "cell_type": "markdown",
   "id": "2a7bff4a",
   "metadata": {},
   "source": [
    "## Importing data"
   ]
  },
  {
   "cell_type": "code",
   "execution_count": 2,
   "id": "aa8f37dd",
   "metadata": {
    "scrolled": true
   },
   "outputs": [
    {
     "data": {
      "text/html": [
       "<div>\n",
       "<style scoped>\n",
       "    .dataframe tbody tr th:only-of-type {\n",
       "        vertical-align: middle;\n",
       "    }\n",
       "\n",
       "    .dataframe tbody tr th {\n",
       "        vertical-align: top;\n",
       "    }\n",
       "\n",
       "    .dataframe thead th {\n",
       "        text-align: right;\n",
       "    }\n",
       "</style>\n",
       "<table border=\"1\" class=\"dataframe\">\n",
       "  <thead>\n",
       "    <tr style=\"text-align: right;\">\n",
       "      <th></th>\n",
       "      <th>web-scraper-order</th>\n",
       "      <th>web-scraper-start-url</th>\n",
       "      <th>rooms_area_price_raw</th>\n",
       "      <th>address_raw</th>\n",
       "      <th>price_raw</th>\n",
       "      <th>description_raw</th>\n",
       "      <th>text_raw</th>\n",
       "    </tr>\n",
       "  </thead>\n",
       "  <tbody>\n",
       "    <tr>\n",
       "      <th>0</th>\n",
       "      <td>1693998201-1</td>\n",
       "      <td>https://www.immoscout24.ch/de/immobilien/miete...</td>\n",
       "      <td>3 Zimmer, 49 m², CHF 1441.—</td>\n",
       "      <td>Neuhusstrasse 6, 8630 Rüti ZH, ZH</td>\n",
       "      <td>CHF 1441.—</td>\n",
       "      <td>«Gemütliche Wohnung im Grünen»</td>\n",
       "      <td>3 Zimmer, 49 m², CHF 1441.—Neuhusstrasse 6, 86...</td>\n",
       "    </tr>\n",
       "    <tr>\n",
       "      <th>1</th>\n",
       "      <td>1693998201-2</td>\n",
       "      <td>https://www.immoscout24.ch/de/immobilien/miete...</td>\n",
       "      <td>3,5 Zimmer, 65 m², CHF 1850.—</td>\n",
       "      <td>Zürcherstrasse 1, 8173 Neerach, ZH</td>\n",
       "      <td>CHF 1850.—</td>\n",
       "      <td>«Attraktive 3.5-Zimmer-EG-Wohnung in Neerach»</td>\n",
       "      <td>3,5 Zimmer, 65 m², CHF 1850.—Zürcherstrasse 1,...</td>\n",
       "    </tr>\n",
       "    <tr>\n",
       "      <th>2</th>\n",
       "      <td>1693998201-3</td>\n",
       "      <td>https://www.immoscout24.ch/de/immobilien/miete...</td>\n",
       "      <td>19 m², CHF 2686.—</td>\n",
       "      <td>Cramerstrasse 8-12, 8004 Zürich, ZH</td>\n",
       "      <td>CHF 2686.—</td>\n",
       "      <td>«Studio Apartment Junior Balcony»</td>\n",
       "      <td>19 m², CHF 2686.—Cramerstrasse 8-12, 8004 Züri...</td>\n",
       "    </tr>\n",
       "    <tr>\n",
       "      <th>3</th>\n",
       "      <td>1693998201-4</td>\n",
       "      <td>https://www.immoscout24.ch/de/immobilien/miete...</td>\n",
       "      <td>2 Zimmer, 54 m², CHF 4853.—</td>\n",
       "      <td>Cramerstrasse 8-12, 8004 Zürich, ZH</td>\n",
       "      <td>CHF 4853.—</td>\n",
       "      <td>«2 Bedroom Apartment Senior Balcony»</td>\n",
       "      <td>2 Zimmer, 54 m², CHF 4853.—Cramerstrasse 8-12,...</td>\n",
       "    </tr>\n",
       "    <tr>\n",
       "      <th>4</th>\n",
       "      <td>1693998201-5</td>\n",
       "      <td>https://www.immoscout24.ch/de/immobilien/miete...</td>\n",
       "      <td>2 Zimmer, 49 m², CHF 4335.—</td>\n",
       "      <td>Rotachstrasse 33, 8003 Zürich, ZH</td>\n",
       "      <td>CHF 4335.—</td>\n",
       "      <td>«2 Bedroom Apartment Junior Terrace»</td>\n",
       "      <td>2 Zimmer, 49 m², CHF 4335.—Rotachstrasse 33, 8...</td>\n",
       "    </tr>\n",
       "  </tbody>\n",
       "</table>\n",
       "</div>"
      ],
      "text/plain": [
       "  web-scraper-order                              web-scraper-start-url  \\\n",
       "0      1693998201-1  https://www.immoscout24.ch/de/immobilien/miete...   \n",
       "1      1693998201-2  https://www.immoscout24.ch/de/immobilien/miete...   \n",
       "2      1693998201-3  https://www.immoscout24.ch/de/immobilien/miete...   \n",
       "3      1693998201-4  https://www.immoscout24.ch/de/immobilien/miete...   \n",
       "4      1693998201-5  https://www.immoscout24.ch/de/immobilien/miete...   \n",
       "\n",
       "            rooms_area_price_raw                          address_raw  \\\n",
       "0    3 Zimmer, 49 m², CHF 1441.—    Neuhusstrasse 6, 8630 Rüti ZH, ZH   \n",
       "1  3,5 Zimmer, 65 m², CHF 1850.—   Zürcherstrasse 1, 8173 Neerach, ZH   \n",
       "2              19 m², CHF 2686.—  Cramerstrasse 8-12, 8004 Zürich, ZH   \n",
       "3    2 Zimmer, 54 m², CHF 4853.—  Cramerstrasse 8-12, 8004 Zürich, ZH   \n",
       "4    2 Zimmer, 49 m², CHF 4335.—    Rotachstrasse 33, 8003 Zürich, ZH   \n",
       "\n",
       "    price_raw                                description_raw  \\\n",
       "0  CHF 1441.—                 «Gemütliche Wohnung im Grünen»   \n",
       "1  CHF 1850.—  «Attraktive 3.5-Zimmer-EG-Wohnung in Neerach»   \n",
       "2  CHF 2686.—              «Studio Apartment Junior Balcony»   \n",
       "3  CHF 4853.—           «2 Bedroom Apartment Senior Balcony»   \n",
       "4  CHF 4335.—           «2 Bedroom Apartment Junior Terrace»   \n",
       "\n",
       "                                            text_raw  \n",
       "0  3 Zimmer, 49 m², CHF 1441.—Neuhusstrasse 6, 86...  \n",
       "1  3,5 Zimmer, 65 m², CHF 1850.—Zürcherstrasse 1,...  \n",
       "2  19 m², CHF 2686.—Cramerstrasse 8-12, 8004 Züri...  \n",
       "3  2 Zimmer, 54 m², CHF 4853.—Cramerstrasse 8-12,...  \n",
       "4  2 Zimmer, 49 m², CHF 4335.—Rotachstrasse 33, 8...  "
      ]
     },
     "execution_count": 2,
     "metadata": {},
     "output_type": "execute_result"
    }
   ],
   "source": [
    "# Read the data to a pandas data frame\n",
    "df = pd.read_csv('./Data/apartments_data_zuerich.csv', \n",
    "                 sep=',', \n",
    "                 encoding='utf-8')\n",
    "\n",
    "# Show first records of data frame\n",
    "df.head()"
   ]
  },
  {
   "cell_type": "markdown",
   "id": "b95e9f0e",
   "metadata": {},
   "source": [
    "## Count number of rows and columns in the data frame"
   ]
  },
  {
   "cell_type": "code",
   "execution_count": 3,
   "id": "ec7391ad",
   "metadata": {},
   "outputs": [
    {
     "name": "stdout",
     "output_type": "stream",
     "text": [
      "Dimension: (1008, 7)\n",
      "Number of rows: 1008\n",
      "Number of columns: 7\n"
     ]
    }
   ],
   "source": [
    "# Dimension (rows, columns)\n",
    "print('Dimension:', df.shape)\n",
    "\n",
    "# Number of rows\n",
    "print('Number of rows:', df.shape[0])\n",
    "\n",
    "# Number of columns\n",
    "### dh.shape scheint ein Array (2) zu sein\n",
    "print('Number of columns:', df.shape[1])"
   ]
  },
  {
   "cell_type": "markdown",
   "id": "ace6d22c",
   "metadata": {},
   "source": [
    "## Get data types (raw-format from web scraper)"
   ]
  },
  {
   "cell_type": "code",
   "execution_count": 4,
   "id": "dd9244a5",
   "metadata": {},
   "outputs": [
    {
     "data": {
      "text/plain": [
       "web-scraper-order        object\n",
       "web-scraper-start-url    object\n",
       "rooms_area_price_raw     object\n",
       "address_raw              object\n",
       "price_raw                object\n",
       "description_raw          object\n",
       "text_raw                 object\n",
       "dtype: object"
      ]
     },
     "execution_count": 4,
     "metadata": {},
     "output_type": "execute_result"
    }
   ],
   "source": [
    "# Get data types (note that in pandas, a string is referred to as 'object')\n",
    "df.dtypes"
   ]
  },
  {
   "cell_type": "markdown",
   "id": "9ea951fd",
   "metadata": {},
   "source": [
    "## Extract information from raw data using regular expressions (regex)"
   ]
  },
  {
   "cell_type": "markdown",
   "id": "7c3be629",
   "metadata": {},
   "source": [
    "### Extract number of rooms"
   ]
  },
  {
   "cell_type": "code",
   "execution_count": 5,
   "id": "1c543c59",
   "metadata": {},
   "outputs": [
    {
     "data": {
      "text/html": [
       "<div>\n",
       "<style scoped>\n",
       "    .dataframe tbody tr th:only-of-type {\n",
       "        vertical-align: middle;\n",
       "    }\n",
       "\n",
       "    .dataframe tbody tr th {\n",
       "        vertical-align: top;\n",
       "    }\n",
       "\n",
       "    .dataframe thead th {\n",
       "        text-align: right;\n",
       "    }\n",
       "</style>\n",
       "<table border=\"1\" class=\"dataframe\">\n",
       "  <thead>\n",
       "    <tr style=\"text-align: right;\">\n",
       "      <th></th>\n",
       "      <th>rooms_area_price_raw</th>\n",
       "      <th>rooms</th>\n",
       "    </tr>\n",
       "  </thead>\n",
       "  <tbody>\n",
       "    <tr>\n",
       "      <th>0</th>\n",
       "      <td>3 Zimmer, 49 m², CHF 1441.—</td>\n",
       "      <td>3.0</td>\n",
       "    </tr>\n",
       "    <tr>\n",
       "      <th>1</th>\n",
       "      <td>3,5 Zimmer, 65 m², CHF 1850.—</td>\n",
       "      <td>3.5</td>\n",
       "    </tr>\n",
       "    <tr>\n",
       "      <th>2</th>\n",
       "      <td>19 m², CHF 2686.—</td>\n",
       "      <td>NaN</td>\n",
       "    </tr>\n",
       "    <tr>\n",
       "      <th>3</th>\n",
       "      <td>2 Zimmer, 54 m², CHF 4853.—</td>\n",
       "      <td>2.0</td>\n",
       "    </tr>\n",
       "    <tr>\n",
       "      <th>4</th>\n",
       "      <td>2 Zimmer, 49 m², CHF 4335.—</td>\n",
       "      <td>2.0</td>\n",
       "    </tr>\n",
       "  </tbody>\n",
       "</table>\n",
       "</div>"
      ],
      "text/plain": [
       "            rooms_area_price_raw  rooms\n",
       "0    3 Zimmer, 49 m², CHF 1441.—    3.0\n",
       "1  3,5 Zimmer, 65 m², CHF 1850.—    3.5\n",
       "2              19 m², CHF 2686.—    NaN\n",
       "3    2 Zimmer, 54 m², CHF 4853.—    2.0\n",
       "4    2 Zimmer, 49 m², CHF 4335.—    2.0"
      ]
     },
     "execution_count": 5,
     "metadata": {},
     "output_type": "execute_result"
    }
   ],
   "source": [
    "# Extract values from 'rooms_area_price_raw' strings\n",
    "### Regex expression, revise this! \n",
    "rooms = []\n",
    "for i in df['rooms_area_price_raw']:\n",
    "    d1 = re.findall(\"(\\d+,\\d+|\\d+)\\s*Zimmer\", i)\n",
    "    try:\n",
    "        ### strip() removes leading and trailing whitespaces, \n",
    "        d2 = d1[0].strip().replace(',', '.')\n",
    "    except:\n",
    "        d2 = None\n",
    "    rooms.append(d2)\n",
    "\n",
    "# Save as new variable in the pandas data frame\n",
    "df['rooms'] = pd.Series(rooms, dtype=\"float64\")\n",
    "    \n",
    "# Show first records of data frame\n",
    "df[['rooms_area_price_raw', 'rooms']].head()\n"
   ]
  },
  {
   "cell_type": "markdown",
   "id": "d7f049dc",
   "metadata": {},
   "source": [
    "### Extract living area"
   ]
  },
  {
   "cell_type": "code",
   "execution_count": 6,
   "id": "85bc7408",
   "metadata": {},
   "outputs": [
    {
     "data": {
      "text/html": [
       "<div>\n",
       "<style scoped>\n",
       "    .dataframe tbody tr th:only-of-type {\n",
       "        vertical-align: middle;\n",
       "    }\n",
       "\n",
       "    .dataframe tbody tr th {\n",
       "        vertical-align: top;\n",
       "    }\n",
       "\n",
       "    .dataframe thead th {\n",
       "        text-align: right;\n",
       "    }\n",
       "</style>\n",
       "<table border=\"1\" class=\"dataframe\">\n",
       "  <thead>\n",
       "    <tr style=\"text-align: right;\">\n",
       "      <th></th>\n",
       "      <th>rooms_area_price_raw</th>\n",
       "      <th>area</th>\n",
       "    </tr>\n",
       "  </thead>\n",
       "  <tbody>\n",
       "    <tr>\n",
       "      <th>0</th>\n",
       "      <td>3 Zimmer, 49 m², CHF 1441.—</td>\n",
       "      <td>49</td>\n",
       "    </tr>\n",
       "    <tr>\n",
       "      <th>1</th>\n",
       "      <td>3,5 Zimmer, 65 m², CHF 1850.—</td>\n",
       "      <td>65</td>\n",
       "    </tr>\n",
       "    <tr>\n",
       "      <th>2</th>\n",
       "      <td>19 m², CHF 2686.—</td>\n",
       "      <td>19</td>\n",
       "    </tr>\n",
       "    <tr>\n",
       "      <th>3</th>\n",
       "      <td>2 Zimmer, 54 m², CHF 4853.—</td>\n",
       "      <td>54</td>\n",
       "    </tr>\n",
       "    <tr>\n",
       "      <th>4</th>\n",
       "      <td>2 Zimmer, 49 m², CHF 4335.—</td>\n",
       "      <td>49</td>\n",
       "    </tr>\n",
       "  </tbody>\n",
       "</table>\n",
       "</div>"
      ],
      "text/plain": [
       "            rooms_area_price_raw  area\n",
       "0    3 Zimmer, 49 m², CHF 1441.—    49\n",
       "1  3,5 Zimmer, 65 m², CHF 1850.—    65\n",
       "2              19 m², CHF 2686.—    19\n",
       "3    2 Zimmer, 54 m², CHF 4853.—    54\n",
       "4    2 Zimmer, 49 m², CHF 4335.—    49"
      ]
     },
     "execution_count": 6,
     "metadata": {},
     "output_type": "execute_result"
    }
   ],
   "source": [
    "# Extract values from 'rooms_area_price_raw' strings\n",
    "area = []\n",
    "for i in df['rooms_area_price_raw']:\n",
    "    d1 = re.findall(\"(\\d+)\\s*m²\", i)\n",
    "    try:\n",
    "        d2 = d1[0].strip()\n",
    "    except:\n",
    "        d2 = None\n",
    "    area.append(d2)\n",
    "\n",
    "# Save as new variable in the pandas data frame\n",
    "df['area'] = pd.Series(area, dtype=\"Int64\")\n",
    "\n",
    "# Show first records of data frame\n",
    "df[['rooms_area_price_raw', 'area']].head()"
   ]
  },
  {
   "cell_type": "markdown",
   "id": "319ca1bd",
   "metadata": {},
   "source": [
    "### Extract rental price"
   ]
  },
  {
   "cell_type": "code",
   "execution_count": 7,
   "id": "97bba5d3",
   "metadata": {},
   "outputs": [
    {
     "data": {
      "text/html": [
       "<div>\n",
       "<style scoped>\n",
       "    .dataframe tbody tr th:only-of-type {\n",
       "        vertical-align: middle;\n",
       "    }\n",
       "\n",
       "    .dataframe tbody tr th {\n",
       "        vertical-align: top;\n",
       "    }\n",
       "\n",
       "    .dataframe thead th {\n",
       "        text-align: right;\n",
       "    }\n",
       "</style>\n",
       "<table border=\"1\" class=\"dataframe\">\n",
       "  <thead>\n",
       "    <tr style=\"text-align: right;\">\n",
       "      <th></th>\n",
       "      <th>rooms_area_price_raw</th>\n",
       "      <th>price</th>\n",
       "    </tr>\n",
       "  </thead>\n",
       "  <tbody>\n",
       "    <tr>\n",
       "      <th>0</th>\n",
       "      <td>3 Zimmer, 49 m², CHF 1441.—</td>\n",
       "      <td>1441</td>\n",
       "    </tr>\n",
       "    <tr>\n",
       "      <th>1</th>\n",
       "      <td>3,5 Zimmer, 65 m², CHF 1850.—</td>\n",
       "      <td>1850</td>\n",
       "    </tr>\n",
       "    <tr>\n",
       "      <th>2</th>\n",
       "      <td>19 m², CHF 2686.—</td>\n",
       "      <td>2686</td>\n",
       "    </tr>\n",
       "    <tr>\n",
       "      <th>3</th>\n",
       "      <td>2 Zimmer, 54 m², CHF 4853.—</td>\n",
       "      <td>4853</td>\n",
       "    </tr>\n",
       "    <tr>\n",
       "      <th>4</th>\n",
       "      <td>2 Zimmer, 49 m², CHF 4335.—</td>\n",
       "      <td>4335</td>\n",
       "    </tr>\n",
       "  </tbody>\n",
       "</table>\n",
       "</div>"
      ],
      "text/plain": [
       "            rooms_area_price_raw  price\n",
       "0    3 Zimmer, 49 m², CHF 1441.—   1441\n",
       "1  3,5 Zimmer, 65 m², CHF 1850.—   1850\n",
       "2              19 m², CHF 2686.—   2686\n",
       "3    2 Zimmer, 54 m², CHF 4853.—   4853\n",
       "4    2 Zimmer, 49 m², CHF 4335.—   4335"
      ]
     },
     "execution_count": 7,
     "metadata": {},
     "output_type": "execute_result"
    }
   ],
   "source": [
    "# Extract values from 'price_raw' strings\n",
    "price = []\n",
    "for i in df['price_raw']:\n",
    "    d1 = re.findall(\"CHF\\s*(\\d+)\\.—\", i)\n",
    "    try:\n",
    "        d2 = d1[0].strip()\n",
    "    except:\n",
    "        d2 = None\n",
    "    price.append(d2)\n",
    "\n",
    "# Save as new variable in the pandas data frame\n",
    "df['price'] = pd.Series(price, dtype=\"Int64\")\n",
    "\n",
    "# Show first records of data frame\n",
    "df[['rooms_area_price_raw', 'price']].head()"
   ]
  },
  {
   "cell_type": "markdown",
   "id": "53c03c80",
   "metadata": {},
   "source": [
    "### Get data types of all variables, including the new once"
   ]
  },
  {
   "cell_type": "code",
   "execution_count": 8,
   "id": "e2bc73f4",
   "metadata": {},
   "outputs": [
    {
     "data": {
      "text/plain": [
       "web-scraper-order         object\n",
       "web-scraper-start-url     object\n",
       "rooms_area_price_raw      object\n",
       "address_raw               object\n",
       "price_raw                 object\n",
       "description_raw           object\n",
       "text_raw                  object\n",
       "rooms                    float64\n",
       "area                       Int64\n",
       "price                      Int64\n",
       "dtype: object"
      ]
     },
     "execution_count": 8,
     "metadata": {},
     "output_type": "execute_result"
    }
   ],
   "source": [
    "df.dtypes"
   ]
  },
  {
   "cell_type": "markdown",
   "id": "bad3c2d0",
   "metadata": {},
   "source": [
    "## Count and remove missing values"
   ]
  },
  {
   "cell_type": "code",
   "execution_count": 9,
   "id": "707adcf1",
   "metadata": {},
   "outputs": [
    {
     "name": "stdout",
     "output_type": "stream",
     "text": [
      "Number of missing values: 157\n"
     ]
    }
   ],
   "source": [
    "# Count missing values\n",
    "print(f\"Number of missing values: {pd.isna(df).sum().sum()}\")\n",
    "\n",
    "# Drop rows with missing values (if any)\n",
    "df = df.dropna().reset_index(drop=True)"
   ]
  },
  {
   "cell_type": "markdown",
   "id": "92641a30",
   "metadata": {},
   "source": [
    "## Count and remove duplicated values"
   ]
  },
  {
   "cell_type": "code",
   "execution_count": null,
   "id": "cc6214d8",
   "metadata": {},
   "outputs": [],
   "source": [
    "# Count duplicated values\n",
    "print(f\"Number of duplicated values: {df[df[['web-scraper-order']].duplicated()].sum().sum()}\")\n",
    "\n",
    "# Drop rows with duplicated values (if any)\n",
    "df = df.drop_duplicates().reset_index(drop=True)\n",
    "\n",
    "# Dimension (rows, columns)\n",
    "print('\\nDimension:', df.shape)"
   ]
  },
  {
   "cell_type": "markdown",
   "id": "35ff8127",
   "metadata": {},
   "source": [
    "## Use string manipulation methods to create additional variables from the apartment descriptions."
   ]
  },
  {
   "cell_type": "markdown",
   "id": "3e913110",
   "metadata": {},
   "source": [
    "### Change strings in 'description_raw' ad 'text_raw' to uppercase "
   ]
  },
  {
   "cell_type": "code",
   "execution_count": null,
   "id": "6b751209",
   "metadata": {},
   "outputs": [],
   "source": [
    "# Change strings in 'description_raw' to uppercase \n",
    "df['description_raw'] = df['description_raw'].str.upper()\n",
    "print('Description:\\n', df['description_raw'].head(5), '\\n')\n",
    "\n",
    "# Change strings in 'text_raw' to uppercase \n",
    "df['text_raw'] = df['text_raw'].str.upper()\n",
    "print('Text:\\n', df['text_raw'].head(5))"
   ]
  },
  {
   "cell_type": "markdown",
   "id": "0aad2c21",
   "metadata": {},
   "source": [
    "### Calculate length of strings in 'description_raw' and 'text_raw'"
   ]
  },
  {
   "cell_type": "code",
   "execution_count": null,
   "id": "1fb82d72",
   "metadata": {},
   "outputs": [],
   "source": [
    "# Length of the strings in 'description_raw'\n",
    "df['description_raw_len'] = df['description_raw'].str.len()\n",
    "\n",
    "# Length of the strings in 'text_raw'\n",
    "df['text_raw_len'] = df['text_raw'].str.len()\n",
    "\n",
    "# Histogram of the length of the strings in 'description_raw' and 'text_raw'\n",
    "ax = df[['description_raw_len', 'text_raw_len']].hist(bins=25, \n",
    "                                                      figsize=(7, 3), \n",
    "                                                      color='steelblue')\n",
    "\n",
    "# Set the y-axis range for each subplot\n",
    "for axis in ax.flatten():\n",
    "    axis.set_ylim(0, 300)\n",
    "\n",
    "# Display the plot\n",
    "plt.show()"
   ]
  },
  {
   "cell_type": "markdown",
   "id": "d33d3fd9",
   "metadata": {},
   "source": [
    "### Create binary (0/1) variable 'luxurious'"
   ]
  },
  {
   "cell_type": "code",
   "execution_count": null,
   "id": "8e0d2ff8",
   "metadata": {},
   "outputs": [],
   "source": [
    "# Create a pattern which can be used to search the variable 'description_raw'\n",
    "pattern = 'LOFT|SEESICHT|PENTHOUSE|LUXUS'\n",
    "\n",
    "# Create new variable 'luxurious' as binary dummy (0/1) variable\n",
    "df['luxurious'] = df['description_raw'].str.contains(pat = pattern).astype(int)\n",
    "print(df['luxurious'].sum())\n",
    "\n",
    "# Show values\n",
    "df[['description_raw','rooms','area','price','luxurious']].loc[df['luxurious'] == 1]"
   ]
  },
  {
   "cell_type": "markdown",
   "id": "48bf12b3",
   "metadata": {},
   "source": [
    "### Create variable 'price_per_m2'"
   ]
  },
  {
   "cell_type": "code",
   "execution_count": null,
   "id": "505c5613",
   "metadata": {},
   "outputs": [],
   "source": [
    "# Create the new variable\n",
    "df['price_per_m2'] = round(df['price'] / df['area'], 2)\n",
    "\n",
    "# Show values\n",
    "df[['description_raw','rooms','area','price','luxurious','price_per_m2']]"
   ]
  },
  {
   "cell_type": "markdown",
   "id": "68ea9d52",
   "metadata": {},
   "source": [
    "### Include current datetime as time stamp"
   ]
  },
  {
   "cell_type": "code",
   "execution_count": null,
   "id": "02a1e025",
   "metadata": {},
   "outputs": [],
   "source": [
    "# Get and format datetime\n",
    "df['datetime'] = datetime.now().strftime(\"%Y-%m-%d %H:%M:%S\")\n",
    "\n",
    "# Show values\n",
    "df[['description_raw','rooms','area','price','luxurious','price_per_m2', 'datetime']]"
   ]
  },
  {
   "cell_type": "markdown",
   "id": "711a89b8",
   "metadata": {},
   "source": [
    "## Discretization of numerical data"
   ]
  },
  {
   "cell_type": "code",
   "execution_count": null,
   "id": "ee718733",
   "metadata": {},
   "outputs": [],
   "source": [
    "# Discretization of the variable 'price_per_m2'\n",
    "df['price_per_m2_cat'] = pd.cut(df['price_per_m2'], \n",
    "                                bins = 5, \n",
    "                                labels = ['very cheap', \n",
    "                                            'cheap', \n",
    "                                            'normal', \n",
    "                                            'expensive', \n",
    "                                            'very expensive'])\n",
    "\n",
    "# Show unique values\n",
    "df['price_per_m2_cat'].unique()"
   ]
  },
  {
   "cell_type": "markdown",
   "id": "83721bac",
   "metadata": {},
   "source": [
    "## One Hot Encoding"
   ]
  },
  {
   "cell_type": "code",
   "execution_count": null,
   "id": "6d74aa5b",
   "metadata": {},
   "outputs": [],
   "source": [
    "# One Hot Encoding of the variable 'price_per_m2_cat'\n",
    "try:\n",
    "    df = pd.get_dummies(df, \n",
    "                        columns=['price_per_m2_cat'], \n",
    "                        drop_first=False)\n",
    "except:\n",
    "    print(\"Dummy variables already exist\")\n",
    "\n",
    "# Convert boolean values to integers (0 and 1)\n",
    "df[df.filter(like='price_per_m2_cat').columns] = df.filter(like='price_per_m2_cat').astype(int)\n",
    "\n",
    "# Show values of the new dummy variables\n",
    "df.filter(like='price_per_m2_cat').head()"
   ]
  },
  {
   "cell_type": "markdown",
   "id": "b8180797",
   "metadata": {},
   "source": [
    "## Scaling"
   ]
  },
  {
   "cell_type": "markdown",
   "id": "4833f1c7",
   "metadata": {},
   "source": [
    "### Min-Max Scaling"
   ]
  },
  {
   "cell_type": "code",
   "execution_count": null,
   "id": "278aa9ad",
   "metadata": {},
   "outputs": [],
   "source": [
    "# Min-Max scaling of the variable 'area'\n",
    "df['area_scaled_minmax'] = (df['area'] - df['area'].min()) / (df['area'].max() - df['area'].min())\n",
    "\n",
    "# Histogram of the variable 'area' and 'area_scaled'\n",
    "ax = df[['area', 'area_scaled_minmax']].hist(bins=25, \n",
    "                                      figsize=(7, 3), \n",
    "                                      color='steelblue')\n",
    "                                      \n",
    "# Set the y-axis range for each subplot and add labels\n",
    "for axis, label in zip(ax.flatten(), ['Area', 'Min_Max_Scaled(Area)']):\n",
    "    axis.set_ylim(0, 500)\n",
    "    axis.set_xlabel(label)\n",
    "    axis.set_ylabel('Frequency')\n",
    "\n",
    "# Display the plot\n",
    "plt.show()"
   ]
  },
  {
   "cell_type": "markdown",
   "id": "e41084a3",
   "metadata": {},
   "source": [
    "### Max-Absolute Scaling"
   ]
  },
  {
   "cell_type": "code",
   "execution_count": null,
   "id": "22c38472",
   "metadata": {},
   "outputs": [],
   "source": [
    "# Max-Absolute scaling of the variable 'area'\n",
    "df['area_scaled_max_abs'] = df['area'] / df['area'].abs().max()\n",
    "\n",
    "# Histogram of the variable 'area' and 'area_scaled_max_abs'\n",
    "ax = df[['area', 'area_scaled_max_abs']].hist(bins=25, \n",
    "                                              figsize=(7, 3), \n",
    "                                              color='steelblue')\n",
    "\n",
    "# Set the y-axis range for each subplot and add labels\n",
    "for axis, label in zip(ax.flatten(), ['Area', 'Max_Abs_Scaled(Area)']):\n",
    "    axis.set_ylim(0, 500)\n",
    "    axis.set_xlabel(label)\n",
    "    axis.set_ylabel('Frequency')\n",
    "\n",
    "# Display the plot\n",
    "plt.show()"
   ]
  },
  {
   "cell_type": "markdown",
   "id": "3a281e86",
   "metadata": {},
   "source": [
    "### Robust Scaling"
   ]
  },
  {
   "cell_type": "code",
   "execution_count": null,
   "id": "f0128026",
   "metadata": {},
   "outputs": [],
   "source": [
    "# Robust scaling of the variable 'area'\n",
    "df['area_scaled_robust'] = (df['area'] - df['area'].median()) / \\\n",
    "                           (df['area'].quantile(0.75) \\\n",
    "                           - df['area'].quantile(0.25))\n",
    "\n",
    "# Histogram of the variable 'area' and 'area_scaled_robust'\n",
    "ax = df[['area', 'area_scaled_robust']].hist(bins=25, \n",
    "                                             figsize=(7, 3), \n",
    "                                             color='steelblue')\n",
    "\n",
    "# Set the y-axis range for each subplot and add labels\n",
    "for axis, label in zip(ax.flatten(), ['Area', 'Scaled_Robust(Area)']):\n",
    "    axis.set_ylim(0, 500)\n",
    "    axis.set_xlabel(label)\n",
    "    axis.set_ylabel('Frequency')\n",
    "\n",
    "# Display the plot\n",
    "plt.show()"
   ]
  },
  {
   "cell_type": "markdown",
   "id": "862fcc01",
   "metadata": {},
   "source": [
    "## Standardization"
   ]
  },
  {
   "cell_type": "markdown",
   "id": "5c29f286",
   "metadata": {},
   "source": [
    "### Z-score Normalization"
   ]
  },
  {
   "cell_type": "code",
   "execution_count": null,
   "id": "b9732e8f",
   "metadata": {},
   "outputs": [],
   "source": [
    "# Z-score Normalization of the variable 'area'\n",
    "df['area_scaled_z'] = (df['area'] - df['area'].mean()) / df['area'].std()\n",
    "\n",
    "# Histogram of the variable 'area' and 'area_scaled_z'\n",
    "ax = df[['area', 'area_scaled_z']].hist(bins=25, \n",
    "                                        figsize=(7, 3), \n",
    "                                        color='steelblue')\n",
    "\n",
    "# Set the y-axis range for each subplot and add labels\n",
    "for axis, label in zip(ax.flatten(), ['Area', 'Scaled_Z(Area)']):\n",
    "    axis.set_ylim(0, 500)\n",
    "    axis.set_xlabel(label)\n",
    "    axis.set_ylabel('Frequency')\n",
    "\n",
    "# Display the plot\n",
    "plt.show()"
   ]
  },
  {
   "cell_type": "markdown",
   "id": "e2a2800a",
   "metadata": {},
   "source": [
    "## Transformation"
   ]
  },
  {
   "cell_type": "markdown",
   "id": "639cc9b5",
   "metadata": {},
   "source": [
    "### Log-Transformation"
   ]
  },
  {
   "cell_type": "code",
   "execution_count": null,
   "id": "629ca85d",
   "metadata": {},
   "outputs": [],
   "source": [
    "# Log-Transformation of the variable 'area'\n",
    "df['area_log'] = np.log(df['area'])\n",
    "\n",
    "# Histogram of the variable 'area' and 'area_log'\n",
    "ax = df[['area', 'area_log']].hist(bins=25, \n",
    "                                   figsize=(7, 3), \n",
    "                                   color='steelblue')\n",
    "\n",
    "# Set the y-axis range for each subplot and add labels\n",
    "for axis, label in zip(ax.flatten(), ['Area', 'Log(Area)']):\n",
    "    axis.set_ylim(0, 500)\n",
    "    axis.set_xlabel(label)\n",
    "    axis.set_ylabel('Frequency')\n",
    "\n",
    "# Display the plot\n",
    "plt.show()"
   ]
  },
  {
   "cell_type": "markdown",
   "id": "447420c6",
   "metadata": {},
   "source": [
    "### SQRT-Transformation"
   ]
  },
  {
   "cell_type": "code",
   "execution_count": null,
   "id": "29a0b071",
   "metadata": {},
   "outputs": [],
   "source": [
    "# SQRT-Transformation of the variable 'area'\n",
    "df['area_sqrt'] = np.sqrt(df['area'])\n",
    "\n",
    "# Histogram of the variable 'area' and 'area_sqrt'\n",
    "ax = df[['area', 'area_sqrt']].hist(bins=25, \n",
    "                                    figsize=(7, 3), \n",
    "                                    color='steelblue')\n",
    "\n",
    "# Set the y-axis range for each subplot and add labels\n",
    "for axis, label in zip(ax.flatten(), ['Area', 'SQRT(Area)']):\n",
    "    axis.set_ylim(0, 500)\n",
    "    axis.set_xlabel(label)\n",
    "    axis.set_ylabel('Frequency')\n",
    "\n",
    "# Display the plot\n",
    "plt.show()"
   ]
  },
  {
   "cell_type": "markdown",
   "id": "639d6d05",
   "metadata": {},
   "source": [
    "### Box-Cox Transformation"
   ]
  },
  {
   "cell_type": "code",
   "execution_count": null,
   "id": "05d97426",
   "metadata": {},
   "outputs": [],
   "source": [
    "# Box-Cox Transformation of the variable 'area'\n",
    "from scipy.stats import boxcox\n",
    "\n",
    "# Apply Box-Cox transformation\n",
    "df['area_boxcox'], _ = boxcox(df['area'])\n",
    "\n",
    "# Histogram of the variable 'area' and 'area_boxcox'\n",
    "ax = df[['area', 'area_boxcox']].hist(bins=25, \n",
    "                                      figsize=(7, 3), \n",
    "                                      color='steelblue')\n",
    "\n",
    "# Set the y-axis range for each subplot and add labels\n",
    "for axis, label in zip(ax.flatten(), ['Area', 'Box-Cox(Area)']):\n",
    "    axis.set_ylim(0, 500)\n",
    "    axis.set_xlabel(label)\n",
    "    axis.set_ylabel('Frequency')\n",
    "\n",
    "# Display the plot\n",
    "plt.show()"
   ]
  },
  {
   "cell_type": "markdown",
   "id": "d766870b",
   "metadata": {},
   "source": [
    "## Combining & organizing data"
   ]
  },
  {
   "cell_type": "markdown",
   "id": "03022398",
   "metadata": {},
   "source": [
    "### Reading rental apartment data with geocoded addresses"
   ]
  },
  {
   "cell_type": "code",
   "execution_count": null,
   "id": "4e722a57",
   "metadata": {},
   "outputs": [],
   "source": [
    "# Meaning of variables\n",
    "# lat: geographical latitude\n",
    "# lon: geographical longitude\n",
    "# bfs_number: official municipality id\n",
    "# bfs_name: official municipality name\n",
    "\n",
    "# Geocoded data (i.e. data with latitude and longitude)\n",
    "df_geo = pd.read_csv('./Data/apartments_data_geocoded.csv', \n",
    "                     sep=';', \n",
    "                     encoding='utf-8')\n",
    "\n",
    "# Show data\n",
    "df_geo.head()"
   ]
  },
  {
   "cell_type": "markdown",
   "id": "79c2b637",
   "metadata": {},
   "source": [
    "### Join geo-information to rental apartment data using .merge()"
   ]
  },
  {
   "cell_type": "code",
   "execution_count": null,
   "id": "b2aeb277",
   "metadata": {},
   "outputs": [],
   "source": [
    "df2 = df.merge(df_geo[['web-scraper-order', \n",
    "                       'lat', \n",
    "                       'lon', \n",
    "                       'bfs_number', \n",
    "                       'bfs_name']], \n",
    "               on=\"web-scraper-order\")\n",
    "\n",
    "# Show data\n",
    "df2[['web-scraper-order',\n",
    "     'address_raw',\n",
    "     'price',\n",
    "     'price_per_m2',\n",
    "     'area',\n",
    "     'rooms',\n",
    "     'lat', \n",
    "     'lon', \n",
    "     'bfs_number', \n",
    "     'bfs_name']].head()"
   ]
  },
  {
   "cell_type": "markdown",
   "id": "ec21f353",
   "metadata": {},
   "source": [
    "### Reading municipality-level data"
   ]
  },
  {
   "cell_type": "code",
   "execution_count": null,
   "id": "f49be65f",
   "metadata": {},
   "outputs": [],
   "source": [
    "# Meaning of variables:\n",
    "# bfs_number: municipality id\n",
    "# bfs_name: municipality name\n",
    "# pop: number of residents\n",
    "# pop_dens: population density per km2\n",
    "# frg_pct: percentage foreigners\n",
    "# emp: number of employees\n",
    "\n",
    "df_municip = pd.read_excel('./Data/municipality_data.xlsx', \n",
    "                           sheet_name='data_for_import')\n",
    "df_municip.head(5)"
   ]
  },
  {
   "cell_type": "markdown",
   "id": "c8600d9a",
   "metadata": {},
   "source": [
    "### Join municipality data to rental apartment data using .merge()"
   ]
  },
  {
   "cell_type": "code",
   "execution_count": null,
   "id": "b22f4607",
   "metadata": {},
   "outputs": [],
   "source": [
    "# Merge needs a key which must be identical in both data sets (here the key is 'bfs_number')\n",
    "df3 = df2.merge(df_municip[['bfs_number', \n",
    "                            'pop', \n",
    "                            'pop_dens', \n",
    "                            'frg_pct', \n",
    "                            'emp']], \n",
    "                on=\"bfs_number\")\n",
    "\n",
    "# Show data\n",
    "df3[['web-scraper-order',\n",
    "     'address_raw',\n",
    "     'price',\n",
    "     'price_per_m2',\n",
    "     'area',\n",
    "     'rooms',\n",
    "     'lat', \n",
    "     'lon', \n",
    "     'bfs_number', \n",
    "     'bfs_name',\n",
    "     'pop',\t\n",
    "     'pop_dens']].head()"
   ]
  },
  {
   "cell_type": "markdown",
   "id": "791c9563",
   "metadata": {},
   "source": [
    "## Sorting data"
   ]
  },
  {
   "cell_type": "code",
   "execution_count": null,
   "id": "dc4c9112",
   "metadata": {},
   "outputs": [],
   "source": [
    "# Sorting data by 'price' and 'area' with highest price above (ascending=False)\n",
    "df3 = df3.sort_values(by=['price', 'area'], \n",
    "                ascending=False)\n",
    "\n",
    "# Show data\n",
    "df3[['web-scraper-order',\n",
    "     'address_raw',\n",
    "     'price',\n",
    "     'price_per_m2',\n",
    "     'area',\n",
    "     'rooms',\n",
    "     'lat', \n",
    "     'lon', \n",
    "     'bfs_number', \n",
    "     'bfs_name',\n",
    "     'pop',\t\n",
    "     'pop_dens']].head()"
   ]
  },
  {
   "cell_type": "markdown",
   "id": "1aa577f9",
   "metadata": {},
   "source": [
    "## Reshaping data"
   ]
  },
  {
   "cell_type": "markdown",
   "id": "2f70bf89",
   "metadata": {},
   "source": [
    "### Reshaping data using .stack() and .unstack()"
   ]
  },
  {
   "cell_type": "code",
   "execution_count": null,
   "id": "74d80957",
   "metadata": {},
   "outputs": [],
   "source": [
    "df_sub = df3[['bfs_name', 'rooms', 'price', 'area']][:5]\n",
    "print('Original shape')\n",
    "print(df_sub, '\\n')\n",
    "\n",
    "df_sub_stacked = df_sub.stack()\n",
    "print('Stacked')\n",
    "print(df_sub_stacked, '\\n')\n",
    "\n",
    "# Using unstack\n",
    "print('Unstacked (= back to original shape)')\n",
    "print(df_sub_stacked.unstack())"
   ]
  },
  {
   "cell_type": "markdown",
   "id": "1db19bde",
   "metadata": {},
   "source": [
    "### Reshaping data using .melt()"
   ]
  },
  {
   "cell_type": "code",
   "execution_count": null,
   "id": "33533c97",
   "metadata": {},
   "outputs": [],
   "source": [
    "df_sub = df3[['rooms', 'price', 'area']][:5]\n",
    "print('Original shape')\n",
    "print(df_sub, '\\n')\n",
    "\n",
    "print('Reshaped using .melt()')\n",
    "print(pd.melt(df, id_vars=['rooms'], value_vars=['price', 'area']))"
   ]
  },
  {
   "cell_type": "markdown",
   "id": "c2991e66",
   "metadata": {},
   "source": [
    "### Pivoting data using .pivot_table()"
   ]
  },
  {
   "cell_type": "code",
   "execution_count": null,
   "id": "4ac34162",
   "metadata": {},
   "outputs": [],
   "source": [
    "pivot_table = pd.pivot_table(df3[['rooms', 'price', 'price_per_m2', 'area']],\n",
    "                             index=['rooms'],\n",
    "                             values={'price': np.mean, \n",
    "                                     'price_per_m2': np.mean, \n",
    "                                     'area': np.mean}).round(2)\n",
    "\n",
    "# Format the values to 2 decimal places with trailing zeros\n",
    "pivot_table = pivot_table.applymap(lambda x: f\"{x:.2f}\" if isinstance(x, (int, float)) else x)\n",
    "\n",
    "# Display the pivot table\n",
    "pivot_table"
   ]
  },
  {
   "cell_type": "markdown",
   "id": "9cec2fdf",
   "metadata": {},
   "source": [
    "### Jupyter notebook --footer info-- (please always provide this at the end of each notebook)"
   ]
  },
  {
   "cell_type": "code",
   "execution_count": null,
   "id": "1ae752a7",
   "metadata": {},
   "outputs": [],
   "source": [
    "import os\n",
    "import platform\n",
    "import socket\n",
    "from platform import python_version\n",
    "from datetime import datetime\n",
    "\n",
    "print('-----------------------------------')\n",
    "print(os.name.upper())\n",
    "print(platform.system(), '|', platform.release())\n",
    "print('Datetime:', datetime.now().strftime(\"%Y-%m-%d %H:%M:%S\"))\n",
    "print('Python Version:', python_version())\n",
    "print('-----------------------------------')"
   ]
  }
 ],
 "metadata": {
  "kernelspec": {
   "display_name": "Python 3",
   "language": "python",
   "name": "python3"
  },
  "language_info": {
   "codemirror_mode": {
    "name": "ipython",
    "version": 3
   },
   "file_extension": ".py",
   "mimetype": "text/x-python",
   "name": "python",
   "nbconvert_exporter": "python",
   "pygments_lexer": "ipython3",
   "version": "3.11.10"
  }
 },
 "nbformat": 4,
 "nbformat_minor": 5
}
